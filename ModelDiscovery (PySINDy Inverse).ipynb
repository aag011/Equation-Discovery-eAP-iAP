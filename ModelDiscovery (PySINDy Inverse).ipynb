{
 "cells": [
  {
   "cell_type": "markdown",
   "id": "9e4dff0d",
   "metadata": {},
   "source": [
    "## Imports"
   ]
  },
  {
   "cell_type": "code",
   "execution_count": 116,
   "id": "cf8b1cbf",
   "metadata": {},
   "outputs": [],
   "source": [
    "import numpy as np\n",
    "import cupy as cp\n",
    "from matplotlib import pyplot as plt, transforms\n",
    "import random\n",
    "import pandas as pd\n",
    "# from Load_Recording_Data import LoadRecordingData, Recording           # (Use this for old data)\n",
    "from load_recording_data import LoadRecordingData#, Recording            # (Use this for new data)\n",
    "import scipy\n",
    "import sklearn\n",
    "from sklearn.model_selection import train_test_split\n",
    "from sklearn.feature_selection import SelectFromModel\n",
    "from sklearn.linear_model import Lasso\n",
    "import pysindy as ps\n",
    "from sklearn.preprocessing import MinMaxScaler, StandardScaler\n",
    "from scipy.integrate import quad\n",
    "import tensorflow as tf\n",
    "import keras\n",
    "from fastdtw import fastdtw\n",
    "import itertools"
   ]
  },
  {
   "cell_type": "code",
   "execution_count": 117,
   "id": "3d690354",
   "metadata": {},
   "outputs": [],
   "source": [
    "gpus = tf.config.list_physical_devices('GPU')\n",
    "gpu_id = 3\n",
    "tf.config.set_visible_devices(gpus[gpu_id], 'GPU')"
   ]
  },
  {
   "cell_type": "markdown",
   "id": "591dcf66",
   "metadata": {},
   "source": [
    "## Load Data"
   ]
  },
  {
   "cell_type": "code",
   "execution_count": 118,
   "id": "9b41a1c1",
   "metadata": {},
   "outputs": [
    {
     "name": "stdout",
     "output_type": "stream",
     "text": [
      "W5FebD1_10nM_Dofe_51_52_8000\n",
      "W5FebD1_10nM_Dofe_57_58_8000\n",
      "W5FebD1_10nM_Dofe_84_85_8000\n",
      "W8FebD2_10nM_Dofe_57_47_8000\n",
      "W8FebD2_10nM_Dofe_84_74_8000\n",
      "W8FebD3_10nM_Dofe_24_14_8000\n",
      "W8FebD3_10nM_Dofe_61_62_8000\n"
     ]
    }
   ],
   "source": [
    "intrasTrain, extrasTrain, intrasTest, extrasTest = LoadRecordingData()\n",
    "# intrasTrainVal, extrasTrainVal, intrasTest, extrasTest = LoadRecordingData()\n",
    "# idx_train, idx_val = train_test_split(np.arange(len(intrasTrainVal)), test_size=0.20, random_state=42)\n",
    "\n",
    "# extrasTrain = extrasTrainVal[idx_train]\n",
    "# intrasTrain = intrasTrainVal[idx_train]\n",
    "# extrasVal = extrasTrainVal[idx_val]\n",
    "# intrasVal = intrasTrainVal[idx_val]\n",
    "\n",
    "# dataset = LoadRecordingData()\n",
    "# idx_train, idx_test = train_test_split(np.arange(len(intrasRaw)), test_size=0.25, random_state=42)\n",
    "\n",
    "# extrasTrain = dataset['8k'].extras_training2\n",
    "# intrasTrain = dataset['8k'].intras_training2\n",
    "# extrasVal = dataset['8k'].extras_val2\n",
    "# intrasVal = dataset['8k'].intras_val2"
   ]
  },
  {
   "cell_type": "markdown",
   "id": "1ce6c3f8",
   "metadata": {},
   "source": [
    "## Helper functions"
   ]
  },
  {
   "cell_type": "code",
   "execution_count": 119,
   "id": "88825bcd",
   "metadata": {},
   "outputs": [],
   "source": [
    "# Takes in a 1-dimensional array and a window size, and applies a moving\n",
    "# average filter to data.\n",
    "def moving_filter(data, window_size):\n",
    "    i = 0\n",
    "    moving_averages = []\n",
    "    while i < len(data) - window_size + 1:\n",
    "        this_window = data[i : i + window_size]\n",
    "\n",
    "        window_average = sum(this_window) / window_size\n",
    "        moving_averages.append(window_average)\n",
    "        i += 1\n",
    "\n",
    "    for i in range(window_size - 1):\n",
    "        ind = len(data) - (window_size - i)\n",
    "        moving_averages.append(np.mean(data[ind-window_size:ind]))\n",
    "\n",
    "    return moving_averages\n",
    "\n",
    "def mse(y, p):\n",
    "    return np.mean((y-p)**2)\n",
    "\n",
    "def mae(y, p):\n",
    "    return np.mean(np.absolute(y-p))\n",
    "\n",
    "def dtw(y, p):\n",
    "    distances = []\n",
    "    \n",
    "    for i in range(len(y)):\n",
    "        dist, _ = fastdtw(y[i], p[i])\n",
    "        distances.append(dist)\n",
    "        \n",
    "    return np.mean(np.array(distances))\n",
    "\n",
    "def sigmoid(x):\n",
    "    return 1/(1 + np.exp(-x))"
   ]
  },
  {
   "cell_type": "markdown",
   "id": "ad3451f4",
   "metadata": {},
   "source": [
    "### Smooth the data by applying moving filter"
   ]
  },
  {
   "cell_type": "code",
   "execution_count": 5,
   "id": "8e2680fa",
   "metadata": {},
   "outputs": [],
   "source": [
    "# Apply moving filter on intras and extras\n",
    "# Training set\n",
    "windowSize = 20\n",
    "temp = []\n",
    "\n",
    "for rec in intrasTrain:\n",
    "    temp.append(moving_filter(rec, windowSize))\n",
    "    \n",
    "intrasTrain = np.array(temp)\n",
    "temp = []\n",
    "\n",
    "for rec in extrasTrain:\n",
    "    temp.append(moving_filter(rec, windowSize))\n",
    "    \n",
    "extrasTrain = np.array(temp)\n",
    "\n",
    "# Validation set\n",
    "# temp = []\n",
    "\n",
    "# for rec in intrasVal:\n",
    "#     temp.append(moving_filter(rec, windowSize))\n",
    "    \n",
    "# intrasVal = np.array(temp)\n",
    "# temp = []\n",
    "\n",
    "# for rec in extrasVal:\n",
    "#     temp.append(moving_filter(rec, windowSize))\n",
    "    \n",
    "# extrasVal = np.array(temp)\n",
    "\n",
    "\n",
    "# Test set\n",
    "temp = []\n",
    "\n",
    "for rec in intrasTest:\n",
    "    temp.append(moving_filter(rec, windowSize))\n",
    "    \n",
    "intrasTest = np.array(temp)\n",
    "temp = []\n",
    "\n",
    "for rec in extrasTest:\n",
    "    temp.append(moving_filter(rec, windowSize))\n",
    "    \n",
    "extrasTest = np.array(temp)"
   ]
  },
  {
   "cell_type": "markdown",
   "id": "55aebba5",
   "metadata": {},
   "source": [
    "### Function to extract features"
   ]
  },
  {
   "cell_type": "code",
   "execution_count": 120,
   "id": "86f2ce42",
   "metadata": {},
   "outputs": [],
   "source": [
    "def GetFeatures(intras, extras):\n",
    "    X = []\n",
    "    Y = []\n",
    "    windowSize = 20\n",
    "    \n",
    "#     featureNames = ['d2eAP', 'deAP', 'eAP', 'exp(d2eAP)', 'exp(deAP)', 'exp(eAP)']#, 'distFromMax', 'distFromMin']\n",
    "#     s = [i for i in range(len(featureNames))]\n",
    "#     combs = [list(itertools.combinations(s, r)) for r in range(len(s)+1)]\n",
    "#     featureCombs = []\n",
    "    \n",
    "#     for comb in combs[1:]:\n",
    "#         for tpl in comb:\n",
    "#             name = \"\"\n",
    "\n",
    "#             for ind in tpl:\n",
    "#                 name += \"*\"+featureNames[ind]\n",
    "\n",
    "#             featureCombs.append(name)\n",
    "\n",
    "    \n",
    "    t = np.array([i for i in range(len(extras[0]))])/len(extras[0])\n",
    "    \n",
    "    for i in range(len(extras)):\n",
    "#         iAP = intras[i]\n",
    "#         diAP = np.array(moving_filter(np.gradient(iAP), windowSize))\n",
    "#         d2iAP = np.array(moving_filter(np.gradient(diAP), windowSize))\n",
    "\n",
    "#         eAP = extras[i]\n",
    "#         deAP = np.array(moving_filter(np.gradient(eAP), windowSize))\n",
    "#         d2eAP = np.array(moving_filter(np.gradient(deAP), windowSize))\n",
    "            \n",
    "        iAP = intras[i]\n",
    "        diAP = np.gradient(iAP)\n",
    "        d2iAP = np.gradient(diAP)\n",
    "\n",
    "        eAP = extras[i]\n",
    "#         deAP = np.gradient(eAP)\n",
    "#         d2eAP = np.gradient(deAP)\n",
    "\n",
    "\n",
    "        featureMatrix = [d2iAP, diAP, iAP, t]#, np.exp(d2eAP), np.exp(deAP), np.exp(eAP)]\n",
    "#         featureList = [d2eAP, deAP, eAP, np.exp(d2eAP), np.exp(deAP), np.exp(eAP)]\n",
    "    \n",
    "\n",
    "#         maxInd = np.argmax(eAP[:1500])\n",
    "#         minInd = 1500 + np.argmin(eAP[1500:])\n",
    "\n",
    "#         distFromMax = [i for i in range(len(extras[0]))]\n",
    "#         distFromMin = [i for i in range(len(extras[0]))]\n",
    "\n",
    "#         distFromMax = np.exp(-np.absolute(distFromMax - maxInd))\n",
    "#         distFromMin = np.exp(-np.absolute((distFromMin - minInd)/50))\n",
    "\n",
    "#         featureList.append(distFromMax)\n",
    "#         featureList.append(distFromMin)\n",
    "            \n",
    "#         featureMatrix = []\n",
    "        \n",
    "#         for comb in combs[1:]:\n",
    "#             for tpl in comb:\n",
    "#                 feature = 1\n",
    "                \n",
    "#                 for ind in tpl:\n",
    "#                     feature = feature*featureList[ind]\n",
    "                    \n",
    "#                 featureMatrix.append(feature)\n",
    "        \n",
    "        X.append(np.array(featureMatrix).T)\n",
    "        Y.append(eAP)\n",
    "        \n",
    "#     X = np.array(X)\n",
    "#     Y = np.array(Y)\n",
    "     \n",
    "    return X, Y"
   ]
  },
  {
   "cell_type": "markdown",
   "id": "bbc11a84",
   "metadata": {},
   "source": [
    "### Extract features from train, val and test data"
   ]
  },
  {
   "cell_type": "code",
   "execution_count": 121,
   "id": "29c76b50",
   "metadata": {},
   "outputs": [],
   "source": [
    "X0, Y0 = GetFeatures(intrasTrain, extrasTrain)"
   ]
  },
  {
   "cell_type": "code",
   "execution_count": 122,
   "id": "46bdcf86",
   "metadata": {},
   "outputs": [],
   "source": [
    "# X_val0, Y_val0 = GetFeatures(intrasVal, extrasVal)"
   ]
  },
  {
   "cell_type": "code",
   "execution_count": 123,
   "id": "73e6b6f6",
   "metadata": {},
   "outputs": [],
   "source": [
    "X_test0, Y_test0 = GetFeatures(intrasTest, extrasTest)"
   ]
  },
  {
   "cell_type": "markdown",
   "id": "60d928da",
   "metadata": {},
   "source": [
    "## SINDy inverse model (iAP to eAP)"
   ]
  },
  {
   "cell_type": "code",
   "execution_count": 125,
   "id": "46f47988",
   "metadata": {},
   "outputs": [
    {
     "name": "stdout",
     "output_type": "stream",
     "text": [
      "(x0)' = -0.136 x3 + 0.080 x2^2 + -0.304 x2 x3 + 0.068\n"
     ]
    }
   ],
   "source": [
    "differentiation_method = ps.FiniteDifference(order=2)\n",
    "\n",
    "feature_library = ps.PolynomialLibrary(degree=2)\n",
    "#feature_library = ps.FourierLibrary(n_frequencies=5)\n",
    "\n",
    "library_functions = [\n",
    "    lambda x: np.exp(x),\n",
    "#     lambda x: 1.0 / x,\n",
    "#     lambda x: x,\n",
    "#     lambda x, y: np.sin(x + y),\n",
    "]\n",
    "\n",
    "library_function_names = [\n",
    "    lambda x: \"exp(\" + x + \")\",\n",
    "#     lambda x: \"1/\" + x,\n",
    "#     lambda x: x,\n",
    "#     lambda x, y: \"sin(\" + x + \",\" + y + \")\",\n",
    "]\n",
    "\n",
    "custom_library = ps.CustomLibrary(\n",
    "    library_functions=library_functions, function_names=library_function_names\n",
    ")\n",
    "\n",
    "generalized_library = ps.GeneralizedLibrary([feature_library, custom_library])\n",
    "\n",
    "# optimizer = ps.STLSQ(threshold=0.2, alpha=0.5)\n",
    "# optimizer = ps.SR3(threshold=0.1, thresholder=\"l2\")\n",
    "# optimizer = ps.SR3(trimming_fraction=0.1)\n",
    "# optimizer = ps.SSR(alpha=0.05)\n",
    "# optimizer = ps.SSR(alpha=0.05, criteria=\"model_residual\")\n",
    "# optimizer = ps.SSR(alpha=0.05, criteria=\"model_residual\", kappa=1e-3)\n",
    "# optimizer = ps.FROLS(alpha=0.05)\n",
    "# optimizer = ps.FROLS(alpha=0.05, kappa=1e-7)\n",
    "optimizer = Lasso(alpha=0.001, max_iter=2000)\n",
    "\n",
    "discrete = False\n",
    "\n",
    "model = ps.SINDy(differentiation_method=differentiation_method,\n",
    "    feature_library=generalized_library,\n",
    "    optimizer=optimizer,\n",
    "    discrete_time=discrete)\n",
    "\n",
    "model.fit(X0, t=1, x_dot=Y0, multiple_trajectories=True)\n",
    "model.print()"
   ]
  },
  {
   "cell_type": "markdown",
   "id": "73a19000",
   "metadata": {},
   "source": [
    "### Evaluate model on test data"
   ]
  },
  {
   "cell_type": "code",
   "execution_count": 126,
   "id": "f2b31942",
   "metadata": {},
   "outputs": [
    {
     "name": "stdout",
     "output_type": "stream",
     "text": [
      "MSE on test d1 with reg_selected 0.0019904299233863354\n",
      "MAE on test d1 with reg_selected 0.028698266512290085\n",
      "DTW on test d1 with reg_selected 193.21173507476232\n"
     ]
    }
   ],
   "source": [
    "predD1 = np.array(model.predict(X_test0, multiple_trajectories=True))\n",
    "predD1 = np.reshape(predD1, (predD1.shape[:2]))\n",
    "# pred = np.cumsum(predD1, axis=1)\n",
    "# prediAP_selected = np.cumsum(predd1_selected, axis=1)\n",
    "yd1 = np.array(Y_test0)\n",
    "# y = np.cumsum(yd1, axis=1)\n",
    "# yiAP = np.cumsum(yd1, axis=1)\n",
    "print(\"MSE on test d1 with reg_selected\", mse(predD1, yd1))\n",
    "# print(\"MSE on test d0 with reg_selected\", mse(pred, y))\n",
    "print(\"MAE on test d1 with reg_selected\", mae(predD1, yd1))\n",
    "# print(\"MAE on test d0 with reg_selected\", mae(pred, y))\n",
    "print(\"DTW on test d1 with reg_selected\", dtw(predD1, yd1))\n",
    "# print(\"DTW on test d0 with reg_selected\", dtw(pred, y))"
   ]
  },
  {
   "cell_type": "markdown",
   "id": "c9acf196",
   "metadata": {},
   "source": [
    "### Prediction plots for a random recording from the test set"
   ]
  },
  {
   "cell_type": "code",
   "execution_count": 115,
   "id": "42a79b51",
   "metadata": {},
   "outputs": [
    {
     "name": "stdout",
     "output_type": "stream",
     "text": [
      "231\n"
     ]
    },
    {
     "data": {
      "text/plain": [
       "Text(112.59722222222221, 0.5, 'eAP')"
      ]
     },
     "execution_count": 115,
     "metadata": {},
     "output_type": "execute_result"
    },
    {
     "data": {
      "image/png": "[encoded data removed]",
      "text/plain": [
       "<Figure size 1200x500 with 2 Axes>"
      ]
     },
     "metadata": {},
     "output_type": "display_data"
    }
   ],
   "source": [
    "ind = random.randint(0, len(X_test0))\n",
    "print(ind)\n",
    "x, y = X_test0[ind], Y_test0[ind]\n",
    "pred = model.predict(x)\n",
    "\n",
    "transparency = 0.7\n",
    "fig0, ax0 = plt.subplots(nrows=1, ncols=2, figsize=(12, 5))\n",
    "fig0.tight_layout(pad=4)\n",
    "\n",
    "# Plot eAP prediction\n",
    "ax0[0].plot(pred)\n",
    "ax0[0].plot(y, alpha=transparency)\n",
    "ax0[0].legend(['Prediction', 'Ground Truth'])\n",
    "ax0[0].title.set_text(\"Extra-cellular AP\")\n",
    "ax0[0].set_xlabel(\"Timesteps\")\n",
    "ax0[0].set_ylabel(\"eAP\")"
   ]
  },
  {
   "cell_type": "code",
   "execution_count": null,
   "id": "c2bb6246",
   "metadata": {},
   "outputs": [],
   "source": []
  }
 ],
 "metadata": {
  "kernelspec": {
   "display_name": "Python 3 (ipykernel)",
   "language": "python",
   "name": "python3"
  },
  "language_info": {
   "codemirror_mode": {
    "name": "ipython",
    "version": 3
   },
   "file_extension": ".py",
   "mimetype": "text/x-python",
   "name": "python",
   "nbconvert_exporter": "python",
   "pygments_lexer": "ipython3",
   "version": "3.9.16"
  }
 },
 "nbformat": 4,
 "nbformat_minor": 5
}
