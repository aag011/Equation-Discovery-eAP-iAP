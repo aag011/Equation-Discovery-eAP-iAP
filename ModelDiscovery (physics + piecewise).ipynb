{
 "cells": [
  {
   "cell_type": "markdown",
   "id": "6beb20cf",
   "metadata": {},
   "source": [
    "## Imports"
   ]
  },
  {
   "cell_type": "code",
   "execution_count": 1,
   "id": "cf8b1cbf",
   "metadata": {},
   "outputs": [
    {
     "name": "stderr",
     "output_type": "stream",
     "text": [
      "2024-02-05 12:16:20.974834: I tensorflow/core/platform/cpu_feature_guard.cc:193] This TensorFlow binary is optimized with oneAPI Deep Neural Network Library (oneDNN) to use the following CPU instructions in performance-critical operations:  AVX2 FMA\n",
      "To enable them in other operations, rebuild TensorFlow with the appropriate compiler flags.\n",
      "2024-02-05 12:16:21.848983: W tensorflow/compiler/xla/stream_executor/platform/default/dso_loader.cc:64] Could not load dynamic library 'libnvinfer.so.7'; dlerror: libnvinfer.so.7: cannot open shared object file: No such file or directory\n",
      "2024-02-05 12:16:21.849095: W tensorflow/compiler/xla/stream_executor/platform/default/dso_loader.cc:64] Could not load dynamic library 'libnvinfer_plugin.so.7'; dlerror: libnvinfer_plugin.so.7: cannot open shared object file: No such file or directory\n",
      "2024-02-05 12:16:21.849105: W tensorflow/compiler/tf2tensorrt/utils/py_utils.cc:38] TF-TRT Warning: Cannot dlopen some TensorRT libraries. If you would like to use Nvidia GPU with TensorRT, please make sure the missing libraries mentioned above are installed properly.\n"
     ]
    }
   ],
   "source": [
    "import numpy as np\n",
    "from matplotlib import pyplot as plt, transforms\n",
    "import random\n",
    "import pandas as pd\n",
    "# from Load_Recording_Data import LoadRecordingData, Recording     # (Use this for old data)\n",
    "from load_recording_data import LoadRecordingData                 # (Use this for new data)\n",
    "import scipy\n",
    "import sklearn\n",
    "from sklearn.model_selection import train_test_split\n",
    "from sklearn.feature_selection import SelectFromModel\n",
    "from sklearn.linear_model import Lasso\n",
    "import pysindy as ps\n",
    "from sklearn.preprocessing import MinMaxScaler, StandardScaler\n",
    "from scipy.integrate import quad\n",
    "import tensorflow as tf\n",
    "import keras\n",
    "from fastdtw import fastdtw\n",
    "import itertools"
   ]
  },
  {
   "cell_type": "code",
   "execution_count": 2,
   "id": "3d690354",
   "metadata": {},
   "outputs": [
    {
     "name": "stdout",
     "output_type": "stream",
     "text": [
      "[PhysicalDevice(name='/physical_device:GPU:0', device_type='GPU'), PhysicalDevice(name='/physical_device:GPU:1', device_type='GPU'), PhysicalDevice(name='/physical_device:GPU:2', device_type='GPU'), PhysicalDevice(name='/physical_device:GPU:3', device_type='GPU')]\n"
     ]
    }
   ],
   "source": [
    "gpus = tf.config.list_physical_devices('GPU')\n",
    "print(gpus)\n",
    "gpu_id = 2\n",
    "tf.config.set_visible_devices(gpus[gpu_id], 'GPU')"
   ]
  },
  {
   "cell_type": "markdown",
   "id": "b8a6a90d",
   "metadata": {},
   "source": [
    "## Load data"
   ]
  },
  {
   "cell_type": "code",
   "execution_count": 3,
   "id": "9b41a1c1",
   "metadata": {},
   "outputs": [
    {
     "name": "stdout",
     "output_type": "stream",
     "text": [
      "W5FebD1_10nM_Dofe_51_52_8000\n",
      "W5FebD1_10nM_Dofe_57_58_8000\n",
      "W5FebD1_10nM_Dofe_84_85_8000\n",
      "W8FebD2_10nM_Dofe_57_47_8000\n",
      "W8FebD2_10nM_Dofe_84_74_8000\n",
      "W8FebD3_10nM_Dofe_24_14_8000\n",
      "W8FebD3_10nM_Dofe_61_62_8000\n"
     ]
    }
   ],
   "source": [
    "intrasTrainVal, extrasTrainVal, intrasTest, extrasTest = LoadRecordingData()\n",
    "idx_train, idx_val = train_test_split(np.arange(len(intrasTrainVal)), test_size=0.20) #, random_state=42)\n",
    "\n",
    "extrasTrain = extrasTrainVal[idx_train]\n",
    "intrasTrain = intrasTrainVal[idx_train]\n",
    "extrasVal = extrasTrainVal[idx_val]\n",
    "intrasVal = intrasTrainVal[idx_val]\n",
    "\n",
    "\n",
    "# dataset = LoadRecordingData()\n",
    "# extrasTrain = dataset['8k'].extras_training2\n",
    "# intrasTrain = dataset['8k'].intras_training2\n",
    "# extrasVal = dataset['8k'].extras_val2\n",
    "# intrasVal = dataset['8k'].intras_val2\n",
    "# extrasTest = dataset['8k'].extras_unseen2\n",
    "# intrasTest = dataset['8k'].intras_unseen2"
   ]
  },
  {
   "cell_type": "markdown",
   "id": "cc020816",
   "metadata": {},
   "source": [
    "## Helper functions"
   ]
  },
  {
   "cell_type": "code",
   "execution_count": 4,
   "id": "88825bcd",
   "metadata": {},
   "outputs": [],
   "source": [
    "# Takes in a 1-dimensional array and a window size, and applies a moving\n",
    "# average filter to data.\n",
    "def moving_filter(data, window_size):\n",
    "    i = 0\n",
    "    moving_averages = []\n",
    "    while i < len(data) - window_size + 1:\n",
    "        this_window = data[i : i + window_size]\n",
    "\n",
    "        window_average = sum(this_window) / window_size\n",
    "        moving_averages.append(window_average)\n",
    "        i += 1\n",
    "\n",
    "    for i in range(window_size - 1):\n",
    "        ind = len(data) - (window_size - i)\n",
    "        moving_averages.append(np.mean(data[ind-window_size:ind]))\n",
    "\n",
    "    return moving_averages\n",
    "\n",
    "def mse(y, p):\n",
    "    return np.mean((y-p)**2)\n",
    "\n",
    "def mae(y, p):\n",
    "    return np.mean(np.absolute(y-p))\n",
    "\n",
    "def dtw(y, p):\n",
    "    distances = []\n",
    "    \n",
    "    for i in range(len(y)):\n",
    "        dist, _ = fastdtw(y[i], p[i])\n",
    "        distances.append(dist)\n",
    "        \n",
    "    return np.mean(np.array(distances))\n",
    "\n",
    "def sigmoid(x):\n",
    "    return 1/(1 + np.exp(-x))"
   ]
  },
  {
   "cell_type": "markdown",
   "id": "d242da6e",
   "metadata": {},
   "source": [
    "### Smooth the data by applying moving filter"
   ]
  },
  {
   "cell_type": "code",
   "execution_count": 5,
   "id": "8e2680fa",
   "metadata": {},
   "outputs": [],
   "source": [
    "# Apply moving filter on intras and extras\n",
    "# Training set\n",
    "windowSize = 20\n",
    "temp = []\n",
    "\n",
    "for rec in intrasTrain:\n",
    "    temp.append(moving_filter(rec, windowSize))\n",
    "    \n",
    "intrasTrain = np.array(temp)\n",
    "temp = []\n",
    "\n",
    "for rec in extrasTrain:\n",
    "    temp.append(moving_filter(rec, windowSize))\n",
    "    \n",
    "extrasTrain = np.array(temp)\n",
    "\n",
    "# Validation set\n",
    "temp = []\n",
    "\n",
    "for rec in intrasVal:\n",
    "    temp.append(moving_filter(rec, windowSize))\n",
    "    \n",
    "intrasVal = np.array(temp)\n",
    "temp = []\n",
    "\n",
    "for rec in extrasVal:\n",
    "    temp.append(moving_filter(rec, windowSize))\n",
    "    \n",
    "extrasVal = np.array(temp)\n",
    "\n",
    "\n",
    "# Test set\n",
    "temp = []\n",
    "\n",
    "for rec in intrasTest:\n",
    "    temp.append(moving_filter(rec, windowSize))\n",
    "    \n",
    "intrasTest = np.array(temp)\n",
    "temp = []\n",
    "\n",
    "for rec in extrasTest:\n",
    "    temp.append(moving_filter(rec, windowSize))\n",
    "    \n",
    "extrasTest = np.array(temp)"
   ]
  },
  {
   "cell_type": "markdown",
   "id": "34e9440c",
   "metadata": {},
   "source": [
    "### Function to extract features"
   ]
  },
  {
   "cell_type": "code",
   "execution_count": 65,
   "id": "86f2ce42",
   "metadata": {},
   "outputs": [],
   "source": [
    "def GetFeatures(intras, extras):\n",
    "    XBefore = []\n",
    "    XAfter = []\n",
    "    Y = []\n",
    "    indicesBefore = []\n",
    "    indicesAfter = []\n",
    "    windowSize = 20\n",
    "    \n",
    "    featureNames = ['d2eAP', 'deAP', 'eAP', 'exp(d2eAP)', 'exp(deAP)', 'exp(eAP)', 't']#, 'distFromMax', 'distFromMin']\n",
    "    s = [i for i in range(len(featureNames))]\n",
    "    combs = [list(itertools.combinations(s, r)) for r in range(len(s)+1)]\n",
    "    featureCombs = []\n",
    "    \n",
    "    for comb in combs[1:]:\n",
    "        for tpl in comb:\n",
    "            name = \"\"\n",
    "\n",
    "            for ind in tpl:\n",
    "                name += \"*\"+featureNames[ind]\n",
    "\n",
    "            featureCombs.append(name)\n",
    "            \n",
    "    t = np.array([i for i in range(len(extras[0]))])/len(extras[0])\n",
    "    \n",
    "    for i in range(len(extras)):\n",
    "        iAP = intras[i]\n",
    "        diAP = np.array(moving_filter(np.gradient(iAP), windowSize))\n",
    "        d2iAP = np.array(moving_filter(np.gradient(diAP), windowSize))\n",
    "\n",
    "        eAP = extras[i]\n",
    "        deAP = np.array(moving_filter(np.gradient(eAP), windowSize))\n",
    "        d2eAP = np.array(moving_filter(np.gradient(deAP), windowSize))\n",
    "        \n",
    "        breakInd = np.argmax(eAP[:1500])+300\n",
    "            \n",
    "#         iAP = intras[i]\n",
    "#         diAP = np.gradient(iAP)\n",
    "#         d2iAP = np.gradient(diAP)\n",
    "\n",
    "#         eAP = extras[i]\n",
    "#         deAP = np.gradient(eAP)\n",
    "#         d2eAP = np.gradient(deAP)\n",
    "\n",
    "        featureList1 = [d2eAP[:breakInd], deAP[:breakInd], eAP[:breakInd], np.exp(d2eAP)[:breakInd], np.exp(deAP)[:breakInd], np.exp(eAP)[:breakInd], t[:breakInd]]\n",
    "        featureList2 = [d2eAP[breakInd:], deAP[breakInd:], eAP[breakInd:], np.exp(d2eAP)[breakInd:], np.exp(deAP)[breakInd:], np.exp(eAP)[breakInd:], t[breakInd:]]\n",
    "            \n",
    "        featureMatrix1 = []\n",
    "        featureMatrix2 = []\n",
    "        \n",
    "        for comb in combs[1:]:\n",
    "            for tpl in comb:\n",
    "                feature1 = 1\n",
    "                feature2 = 1\n",
    "                \n",
    "                for ind in tpl:\n",
    "                    feature1 = feature1*featureList1[ind]\n",
    "                    feature2 = feature2*featureList2[ind]\n",
    "                    \n",
    "                featureMatrix1.append(feature1)\n",
    "                featureMatrix2.append(feature2)\n",
    "        \n",
    "        start = int(len(XBefore))\n",
    "        XBefore.extend(np.array(featureMatrix1).T)\n",
    "        end = int(len(XBefore))-1\n",
    "        indicesBefore.append([start, end])\n",
    "        \n",
    "        start = int(len(XAfter))\n",
    "        XAfter.extend(np.array(featureMatrix2).T)\n",
    "        end = int(len(XAfter))-1\n",
    "        indicesAfter.append([start, end])\n",
    "        \n",
    "        Y.extend(diAP)\n",
    "        \n",
    "    XBefore = np.array(XBefore)\n",
    "    XAfter = np.array(XAfter)\n",
    "    Y = np.array(Y)\n",
    "     \n",
    "    return XBefore, XAfter, Y, indicesBefore, indicesAfter"
   ]
  },
  {
   "cell_type": "markdown",
   "id": "60e14ccf",
   "metadata": {},
   "source": [
    "### Extract features from training data"
   ]
  },
  {
   "cell_type": "code",
   "execution_count": 66,
   "id": "29c76b50",
   "metadata": {},
   "outputs": [],
   "source": [
    "XBefore0, XAfter0, Y, indicesBefore, indicesAfter = GetFeatures(intrasTrain, extrasTrain)\n",
    "scalerBefore = StandardScaler()\n",
    "scalerAfter = StandardScaler()\n",
    "# scalerY0 = StandardScaler()\n",
    "\n",
    "XBefore0 = scalerBefore.fit_transform(XBefore0)\n",
    "XAfter0 = scalerAfter.fit_transform(XAfter0)\n",
    "# Y0 = scalerY0.fit_transform(Y0.reshape(-1, 1)).reshape(-1)"
   ]
  },
  {
   "cell_type": "markdown",
   "id": "a4ae4bbe",
   "metadata": {},
   "source": [
    "### Extract features from validation and test data for hyperparam tuning and evaluation"
   ]
  },
  {
   "cell_type": "code",
   "execution_count": 67,
   "id": "46bdcf86",
   "metadata": {},
   "outputs": [],
   "source": [
    "X_valBefore0, X_valAfter0, Y_val, indicesBefore_val, indicesAfter_val = GetFeatures(intrasVal, extrasVal)\n",
    "X_valBefore0 = scalerBefore.transform(X_valBefore0)\n",
    "X_valAfter0 = scalerAfter.transform(X_valAfter0)\n",
    "# Y_val0 = scalerY0.transform(Y_val0.reshape(-1, 1)).reshape(-1)"
   ]
  },
  {
   "cell_type": "code",
   "execution_count": 68,
   "id": "5cf84183",
   "metadata": {},
   "outputs": [],
   "source": [
    "X_testBefore0, X_testAfter0, Y_test, indicesBefore_test, indicesAfter_test = GetFeatures(intrasTest, extrasTest)\n",
    "X_testBefore0 = scalerBefore.transform(X_testBefore0)\n",
    "X_testAfter0 = scalerAfter.transform(X_testAfter0)"
   ]
  },
  {
   "cell_type": "markdown",
   "id": "ca0f9531",
   "metadata": {},
   "source": [
    "### Estimate parameters of Physics loss equation"
   ]
  },
  {
   "cell_type": "code",
   "execution_count": 69,
   "id": "b8ae1a85",
   "metadata": {},
   "outputs": [],
   "source": [
    "# This cell estimates parameters in physics loss equation using training data.\n",
    "# This equation is then used as a constraint in the loss function of the model.\n",
    "windowSize = 30\n",
    "\n",
    "v = intrasTrain\n",
    "dv = []\n",
    "d2v = []\n",
    "d3v = []\n",
    "\n",
    "for rec in v:\n",
    "    dv.append(moving_filter(np.gradient(rec), windowSize))\n",
    "\n",
    "dv = np.array(dv)\n",
    "\n",
    "for rec in dv:\n",
    "    d2v.append(moving_filter(np.gradient(rec), windowSize))\n",
    "\n",
    "d2v = np.array(d2v)\n",
    "\n",
    "for rec in d2v:\n",
    "    d3v.append(moving_filter(np.gradient(rec), windowSize))\n",
    "\n",
    "d3v = np.array(d3v)\n",
    "\n",
    "v = np.reshape(v, (-1))\n",
    "dv = np.reshape(dv, (-1))\n",
    "d2v = np.reshape(d2v, (-1))\n",
    "d3v = np.reshape(d3v, (-1))\n",
    "\n",
    "vFeatures = np.array([d2v*(v**2), v**3, dv*(v**2), v**4, v*d2v, v*dv, (d2v)**2, (d2v*dv), (v**3)*d2v, (v**3)*dv, v**5, (dv)**2, \n",
    "                      d2v, d3v*v, dv, np.ones(v.shape)]).T\n",
    "\n",
    "target = np.array([d3v*(v**2)]).T\n",
    "params = np.linalg.inv(vFeatures.T.dot(vFeatures)).dot(vFeatures.T.dot(target))"
   ]
  },
  {
   "cell_type": "markdown",
   "id": "c995902a",
   "metadata": {},
   "source": [
    "### Linear regression model with custom loss"
   ]
  },
  {
   "cell_type": "code",
   "execution_count": 70,
   "id": "97b94096",
   "metadata": {},
   "outputs": [],
   "source": [
    "class LinearReg(keras.layers.Layer):\n",
    "    def __init__(self, numParams, lamda):\n",
    "        super(LinearReg, self).__init__()\n",
    "        self.w = self.add_weight(shape=(numParams, 1), initializer=\"random_normal\", trainable=True)\n",
    "        self.b = self.add_weight(shape=(1,), initializer=\"zeros\", trainable=True)\n",
    "        self.lamda = lamda\n",
    "        \n",
    "    def call(self, x):\n",
    "        return tf.matmul(x, self.w) + self.b\n",
    "    \n",
    "    def loss_fn(self, output, target):\n",
    "        reg = self.lamda*(tf.math.reduce_sum(tf.math.abs(self.w)) + tf.math.reduce_sum(tf.math.abs(self.b)))\n",
    "        sqError = tf.reduce_sum(tf.math.square(output - target))\n",
    "        \n",
    "        dv = tf.reshape(output, (-1)).numpy()\n",
    "#         dv = np.gradient(v)\n",
    "        v = np.cumsum(dv)\n",
    "        d2v = np.gradient(dv)\n",
    "        d3v = np.gradient(d2v)\n",
    "        \n",
    "        vFeatures = np.array([d2v*(v**2), v**3, dv*(v**2), v**4, v*d2v, v*dv, (d2v)**2, (d2v*dv), (v**3)*d2v, (v**3)*dv, v**5, (dv)**2, \n",
    "                      d2v, d3v*v, dv, np.ones(v.shape)]).T\n",
    "        target = np.array([d3v*(v**2)]).T\n",
    "        \n",
    "        phyErr = tf.reduce_sum(tf.math.square(vFeatures.dot(params) - target))\n",
    "#         d1mse = tf.reduce_mean(tf.math.square(tf.math.cumsum(output, 0) - tf.math.cumsum(target, 0)))\n",
    "#         mse = tf.reduce_mean(tf.math.square(tf.math.cumsum(tf.math.cumsum(output, 0), 0) - tf.math.cumsum(tf.math.cumsum(target, 0), 0)))\n",
    "\n",
    "        return reg + sqError + tf.cast(phyErr, tf.float32)# + d1mse + mse"
   ]
  },
  {
   "cell_type": "markdown",
   "id": "2b6f6bd2",
   "metadata": {},
   "source": [
    "### Training"
   ]
  },
  {
   "cell_type": "code",
   "execution_count": 79,
   "id": "e499b33c",
   "metadata": {},
   "outputs": [
    {
     "name": "stdout",
     "output_type": "stream",
     "text": [
      "Epoch  0  complete with loss  tf.Tensor(5.9848573e+19, shape=(), dtype=float32)\n",
      "Epoch  5  complete with loss  tf.Tensor(72772840000.0, shape=(), dtype=float32)\n",
      "Epoch  10  complete with loss  tf.Tensor(14707845.0, shape=(), dtype=float32)\n",
      "Epoch  15  complete with loss  tf.Tensor(233456.83, shape=(), dtype=float32)\n",
      "Epoch  20  complete with loss  tf.Tensor(2015.5735, shape=(), dtype=float32)\n",
      "Epoch  25  complete with loss  tf.Tensor(91.32989, shape=(), dtype=float32)\n",
      "Epoch  30  complete with loss  tf.Tensor(25.152365, shape=(), dtype=float32)\n",
      "Epoch  35  complete with loss  tf.Tensor(14.284269, shape=(), dtype=float32)\n",
      "Epoch  40  complete with loss  tf.Tensor(10.970222, shape=(), dtype=float32)\n",
      "Epoch  45  complete with loss  tf.Tensor(9.183032, shape=(), dtype=float32)\n"
     ]
    }
   ],
   "source": [
    "keras.utils.set_random_seed(812)\n",
    "\n",
    "XBefore = XBefore0#[:, mask]\n",
    "XAfter = XAfter0#[:, mask2]\n",
    "X_valBefore = X_valBefore0#[:, mask]\n",
    "X_valAfter = X_valAfter0#[:, mask2]\n",
    "X_testBefore = X_testBefore0#[:, mask]\n",
    "X_testAfter = X_testAfter0#[:, mask2]\n",
    "\n",
    "\n",
    "lr_schedule = tf.keras.optimizers.schedules.ExponentialDecay(initial_learning_rate=1e-5, decay_steps=10000, decay_rate=0.95)\n",
    "\n",
    "epochs = 50\n",
    "batch_size = len(extrasTrain[0])\n",
    "\n",
    "reg_selected = LinearReg(XBefore.shape[1], 1)\n",
    "reg_selected2 = LinearReg(XAfter.shape[1], 1)\n",
    "\n",
    "optimizer = keras.optimizers.Adam(learning_rate=lr_schedule)\n",
    "\n",
    "for epoch in range(epochs):\n",
    "    totalLoss = 0.0\n",
    "\n",
    "    for i in range(len(indicesBefore)):\n",
    "        loss = 0.0\n",
    "        \n",
    "        with tf.GradientTape() as tape:\n",
    "            output1 = reg_selected(tf.convert_to_tensor(XBefore[indicesBefore[i][0]:indicesBefore[i][1]+1], dtype='float32'))\n",
    "            output1 = tf.reshape(output1, (-1))\n",
    "            output2 = reg_selected2(tf.convert_to_tensor(XAfter[indicesAfter[i][0]:indicesAfter[i][1]+1], dtype='float32'))\n",
    "            output2 = tf.reshape(output2, (-1))\n",
    "\n",
    "            loss = reg_selected.loss_fn(tf.concat([output1, output2], 0), tf.convert_to_tensor(Y[8000*i:8000*(i+1)], dtype='float32'))\n",
    "            loss += reg_selected2.loss_fn(tf.concat([output1, output2], 0), tf.convert_to_tensor(Y[8000*i:8000*(i+1)], dtype='float32'))\n",
    "            totalLoss += loss\n",
    "            \n",
    "        variables = reg_selected.trainable_weights\n",
    "        variables.extend(reg_selected2.trainable_weights)\n",
    "        grads = tape.gradient(loss, variables)\n",
    "        optimizer.apply_gradients(zip(grads, variables))\n",
    "        \n",
    "    if(epoch%5==0):\n",
    "        print(\"Epoch \", epoch, \" complete with loss \", totalLoss/len(indicesBefore))\n",
    "\n",
    "# output = []\n",
    "# for i in range(len(indicesBefore)):\n",
    "#     output1 = reg_selected(tf.convert_to_tensor(XBefore[indicesBefore[i][0]:indicesBefore[i][1]+1], dtype='float32'))\n",
    "#     output1 = tf.reshape(output1, (-1))\n",
    "#     output2 = reg_selected2(tf.convert_to_tensor(XAfter[indicesAfter[i][0]:indicesAfter[i][1]+1], dtype='float32'))\n",
    "#     output2 = tf.reshape(output2, (-1))\n",
    "#     output.extend(tf.concat([output1, output2], 0).numpy())\n",
    "    \n",
    "# output = np.array(output)\n",
    "    \n",
    "# print(\"MSE on train with model\", mse(output, Y))\n",
    "# print(\"MAE on train with model\", mae(output, Y))"
   ]
  },
  {
   "cell_type": "markdown",
   "id": "d35a13de",
   "metadata": {},
   "source": [
    "### Evaluate model on validation data"
   ]
  },
  {
   "cell_type": "code",
   "execution_count": 80,
   "id": "211f2a58",
   "metadata": {},
   "outputs": [
    {
     "name": "stdout",
     "output_type": "stream",
     "text": [
      "MSE on val d0 with reg_selected 6.625203210038991\n",
      "MAE on val d0 with reg_selected 1.9002800040500545\n",
      "DTW on val d0 with reg_selected 14120.347792758115\n"
     ]
    }
   ],
   "source": [
    "valOut = []\n",
    "for i in range(len(indicesBefore_val)):\n",
    "    valOut1 = reg_selected(tf.convert_to_tensor(X_valBefore[indicesBefore_val[i][0]:indicesBefore_val[i][1]+1], dtype='float32'))\n",
    "    valOut1 = tf.reshape(valOut1, (-1))\n",
    "    valOut2 = reg_selected2(tf.convert_to_tensor(X_valAfter[indicesAfter_val[i][0]:indicesAfter_val[i][1]+1], dtype='float32'))\n",
    "    valOut2 = tf.reshape(valOut2, (-1))\n",
    "    valOut.extend(tf.concat([valOut1, valOut2], 0).numpy())\n",
    "    \n",
    "valOut = np.array(valOut)\n",
    "\n",
    "# predd2_selected = tf.reshape(valOut, (-1, 8000)).numpy()\n",
    "\n",
    "predd1_selected = tf.reshape(valOut, (-1, 8000)).numpy()\n",
    "# predd1_selected = np.cumsum(predd2_selected, axis=1)\n",
    "\n",
    "# prediAP_selected = tf.reshape(valOut, (-1, 8000)).numpy()\n",
    "prediAP_selected = np.cumsum(predd1_selected, axis=1)\n",
    "\n",
    "# yd2 = np.array(Y_test).reshape((-1, 8000))\n",
    "# yd1 = np.cumsum(yd2, axis=1)\n",
    "yiAP = intrasVal\n",
    "\n",
    "print(\"MSE on val d0 with reg_selected\", mse(prediAP_selected, yiAP))\n",
    "print(\"MAE on val d0 with reg_selected\", mae(prediAP_selected, yiAP))\n",
    "print(\"DTW on val d0 with reg_selected\", dtw(prediAP_selected, yiAP))"
   ]
  },
  {
   "cell_type": "markdown",
   "id": "e3cbe8d5",
   "metadata": {},
   "source": [
    "### Evaluate model on test data"
   ]
  },
  {
   "cell_type": "code",
   "execution_count": 64,
   "id": "1d533b99",
   "metadata": {},
   "outputs": [
    {
     "name": "stdout",
     "output_type": "stream",
     "text": [
      "MSE on test d0 with reg_selected 0.009774856874998652\n",
      "MAE on test d0 with regselected 0.07407770380104531\n",
      "DTW on test d0 with reg_selected 90.2729640513853\n"
     ]
    }
   ],
   "source": [
    "testOut = []\n",
    "for i in range(len(indicesBefore_test)):\n",
    "    testOut1 = reg_selected(tf.convert_to_tensor(X_testBefore[indicesBefore_test[i][0]:indicesBefore_test[i][1]+1], dtype='float32'))\n",
    "    testOut1 = tf.reshape(testOut1, (-1))\n",
    "    testOut2 = reg_selected2(tf.convert_to_tensor(X_testAfter[indicesAfter_test[i][0]:indicesAfter_test[i][1]+1], dtype='float32'))\n",
    "    testOut2 = tf.reshape(testOut2, (-1))\n",
    "    testOut.extend(tf.concat([testOut1, testOut2], 0).numpy())\n",
    "    \n",
    "testOut = np.array(testOut)\n",
    "\n",
    "# predd2_selected = tf.reshape(testOut, (-1, 8000)).numpy()\n",
    "\n",
    "predd1_selected = tf.reshape(testOut, (-1, 8000)).numpy()\n",
    "# predd1_selected = np.cumsum(predd2_selected, axis=1)\n",
    "\n",
    "# prediAP_selected = tf.reshape(testOut, (-1, 8000)).numpy()\n",
    "prediAP_selected = np.cumsum(predd1_selected, axis=1)\n",
    "\n",
    "yiAP = intrasTest\n",
    "\n",
    "print(\"MSE on test d0 with reg_selected\", mse(prediAP_selected, yiAP))\n",
    "print(\"MAE on test d0 with regselected\", mae(prediAP_selected, yiAP))\n",
    "print(\"DTW on test d0 with reg_selected\", dtw(prediAP_selected, yiAP))"
   ]
  },
  {
   "cell_type": "markdown",
   "id": "00717e45",
   "metadata": {},
   "source": [
    "### Select features with high coefficient magnitude"
   ]
  },
  {
   "cell_type": "code",
   "execution_count": 39,
   "id": "b5261d0a",
   "metadata": {},
   "outputs": [],
   "source": [
    "featureWeights = np.absolute(np.reshape(reg_selected.w.numpy(), (-1)))\n",
    "featureWeights2 = np.absolute(np.reshape(reg_selected2.w.numpy(), (-1)))"
   ]
  },
  {
   "cell_type": "code",
   "execution_count": 44,
   "id": "817e31bf",
   "metadata": {},
   "outputs": [],
   "source": [
    "mask = featureWeights >= np.sort(featureWeights)[-5]\n",
    "mask2 = featureWeights2 >= np.sort(featureWeights2)[-5]"
   ]
  },
  {
   "cell_type": "code",
   "execution_count": 45,
   "id": "ad97bebb",
   "metadata": {},
   "outputs": [
    {
     "name": "stdout",
     "output_type": "stream",
     "text": [
      "['*deAP' '*t' '*np.exp(deAP)*t' '*np.exp(eAP)*t'\n",
      " '*eAP*np.exp(deAP)*np.exp(eAP)*t']\n",
      "['*t' '*np.exp(d2eAP)*t' '*eAP*np.exp(deAP)*np.exp(eAP)'\n",
      " '*d2eAP*deAP*eAP*np.exp(eAP)*t'\n",
      " '*d2eAP*deAP*eAP*np.exp(d2eAP)*np.exp(deAP)*t']\n"
     ]
    }
   ],
   "source": [
    "featureNames = ['d2eAP', 'deAP', 'eAP', 'np.exp(d2eAP)', 'np.exp(deAP)', 'np.exp(eAP)', 't']#, 'distFromMax', 'distFromMin']\n",
    "s = [i for i in range(len(featureNames))]\n",
    "combs = [list(itertools.combinations(s, r)) for r in range(len(s)+1)]\n",
    "featureCombs = []\n",
    "\n",
    "for comb in combs[1:]:\n",
    "    for tpl in comb:\n",
    "        name = \"\"\n",
    "\n",
    "        for ind in tpl:\n",
    "            name += \"*\"+featureNames[ind]\n",
    "\n",
    "        featureCombs.append(name)\n",
    "\n",
    "#### Only for weight params\n",
    "# featureCombs.extend([\"max\"+str(i) for i in range(-50, 50)])\n",
    "# featureCombs.extend([\"min\"+str(i) for i in range(100)])\n",
    "####\n",
    "\n",
    "print(np.array(featureCombs)[mask])\n",
    "print(np.array(featureCombs)[mask2])"
   ]
  },
  {
   "cell_type": "code",
   "execution_count": 23,
   "id": "70527a4b",
   "metadata": {},
   "outputs": [
    {
     "name": "stdout",
     "output_type": "stream",
     "text": [
      "[[-0.00367152]\n",
      " [ 0.00439196]\n",
      " [ 0.03878922]\n",
      " [-0.03856178]]\n",
      "[0.00089367]\n",
      "[[-1.2247594e-02]\n",
      " [ 1.2227931e-02]\n",
      " [ 1.6773080e-06]\n",
      " [-2.8413642e-06]]\n",
      "[-0.00013851]\n"
     ]
    }
   ],
   "source": [
    "print(reg_selected.w.numpy())\n",
    "print(reg_selected.b.numpy())\n",
    "print(reg_selected2.w.numpy())\n",
    "print(reg_selected2.b.numpy())"
   ]
  },
  {
   "cell_type": "code",
   "execution_count": 42,
   "id": "aeebc852",
   "metadata": {},
   "outputs": [],
   "source": [
    "# 219, 133, 48\n",
    "import pickle\n",
    "diAP_physics_piecewise = {}"
   ]
  },
  {
   "cell_type": "markdown",
   "id": "97d165f2",
   "metadata": {},
   "source": [
    "### Choose a recording at random from the test set"
   ]
  },
  {
   "cell_type": "code",
   "execution_count": 69,
   "id": "7e2674b1",
   "metadata": {},
   "outputs": [
    {
     "name": "stdout",
     "output_type": "stream",
     "text": [
      "48\n"
     ]
    }
   ],
   "source": [
    "ind = random.randint(0, len(extrasTest))#219, 133, 48\n",
    "print(ind)\n",
    "\n",
    "xBefore = X_testBefore[indicesBefore_test[ind][0]:indicesBefore_test[ind][1]]\n",
    "xAfter = X_testAfter[indicesAfter_test[ind][0]:indicesAfter_test[ind][1]]\n",
    "y = Y_test[ind*8000:(ind+1)*8000]"
   ]
  },
  {
   "cell_type": "markdown",
   "id": "2cdb7e55",
   "metadata": {},
   "source": [
    "### Get model prediction for the chosen recording"
   ]
  },
  {
   "cell_type": "code",
   "execution_count": 70,
   "id": "f0ac5893",
   "metadata": {},
   "outputs": [],
   "source": [
    "out1 = reg_selected(tf.convert_to_tensor(xBefore, dtype='float32'))\n",
    "out1 = tf.reshape(out1, (-1)).numpy()\n",
    "out2 = reg_selected2(tf.convert_to_tensor(xAfter, dtype='float32'))\n",
    "out2 = tf.reshape(out2, (-1)).numpy()\n",
    "pred = np.concatenate((out1, out2))\n",
    "# pred = reg_selected.predict(x)\n",
    "# pred1 = reg1.predict(x1)"
   ]
  },
  {
   "cell_type": "markdown",
   "id": "c11622ea",
   "metadata": {},
   "source": [
    "### Prediction plots"
   ]
  },
  {
   "cell_type": "code",
   "execution_count": 71,
   "id": "6531ae83",
   "metadata": {},
   "outputs": [
    {
     "data": {
      "image/png": "[encoded data removed]",
      "text/plain": [
       "<Figure size 1200x500 with 2 Axes>"
      ]
     },
     "metadata": {},
     "output_type": "display_data"
    }
   ],
   "source": [
    "transparency = 0.7\n",
    "fig0, ax0 = plt.subplots(nrows=1, ncols=2, figsize=(12, 5))\n",
    "fig0.tight_layout(pad=4)\n",
    "\n",
    "# Plot second derivative\n",
    "ax0[0].plot(pred)\n",
    "ax0[0].plot(y, alpha=transparency)\n",
    "ax0[0].legend(['Prediction', 'Ground Truth'])\n",
    "ax0[0].title.set_text(\"First Derivative\")\n",
    "ax0[0].set_xlabel(\"Timesteps\")\n",
    "ax0[0].set_ylabel(\"diAP\")\n",
    "\n",
    "# Plot first derivative\n",
    "ax0[1].plot(np.cumsum(pred), linestyle='dashed')\n",
    "# ax0[1].plot(moving_filter(np.gradient(intrasTest[ind]), windowSize), alpha=transparency)\n",
    "ax0[1].plot(intrasTest[ind], alpha=transparency, color='red')\n",
    "ax0[1].legend(['Prediction', 'Ground Truth'], prop={'size': 18})\n",
    "ax0[1].title.set_text(\"Intra-cellular AP\")\n",
    "ax0[1].title.set_fontsize(20)\n",
    "ax0[1].set_xlabel(\"Timesteps\", fontsize=20)\n",
    "ax0[1].set_ylabel(\"iAP\", fontsize=20)\n",
    "ax0[1].set_ylim([-0.1, 1.1])\n",
    "ax0[1].tick_params(axis='x', labelsize=16)\n",
    "ax0[1].tick_params(axis='y', labelsize=16)\n",
    "\n",
    "# Plot iAP\n",
    "# ax0[2].plot(np.cumsum(np.cumsum(pred)))\n",
    "# ax0[2].plot(intrasVal[ind], alpha=transparency)\n",
    "# ax0[2].legend(['Prediction', 'Ground Truth'])\n",
    "# ax0[2].title.set_text(\"Intra-cellular AP\")\n",
    "# ax0[2].set_xlabel(\"Timesteps\")\n",
    "# ax0[2].set_ylabel(\"iAP\")"
   ]
  },
  {
   "cell_type": "code",
   "execution_count": 72,
   "id": "8aef4633",
   "metadata": {},
   "outputs": [],
   "source": [
    "diAP_physics_piecewise[48] = [np.cumsum(pred), intrasTest[ind]]"
   ]
  },
  {
   "cell_type": "code",
   "execution_count": 73,
   "id": "39a00480",
   "metadata": {},
   "outputs": [
    {
     "data": {
      "text/plain": [
       "{219: [array([ 0.00076196,  0.0015244 ,  0.00228808, ..., -0.08537691,\n",
       "         -0.08551218, -0.08564871], dtype=float32),\n",
       "  array([0.12118891, 0.12104303, 0.12089716, ..., 0.00630926, 0.00623632,\n",
       "         0.00623632])],\n",
       " 183: [array([ 0.00081025,  0.00161489,  0.00240895, ..., -0.06023562,\n",
       "         -0.06037301, -0.06050666], dtype=float32),\n",
       "  array([0.13086717, 0.13134893, 0.13165864, ..., 0.00554026, 0.00529938,\n",
       "         0.00516173])],\n",
       " 145: [array([ 0.0008199 ,  0.0016491 ,  0.00248538, ..., -0.00674303,\n",
       "         -0.00688065, -0.00701436], dtype=float32),\n",
       "  array([0.12026866, 0.12029851, 0.12050746, ..., 0.0061791 , 0.00614925,\n",
       "         0.00620896])],\n",
       " 133: [array([ 0.00080164,  0.00161622,  0.00244135, ..., -0.00612019,\n",
       "         -0.00625526, -0.00639137], dtype=float32),\n",
       "  array([0.1232358 , 0.12332186, 0.12337923, ..., 0.00461847, 0.00461847,\n",
       "         0.00467585])],\n",
       " 48: [array([0.00075371, 0.00150675, 0.00226216, ..., 0.05038154, 0.05024592,\n",
       "         0.05011095], dtype=float32),\n",
       "  array([0.11254885, 0.11272254, 0.11278767, ..., 0.00182371, 0.00173686,\n",
       "         0.00167173])]}"
      ]
     },
     "execution_count": 73,
     "metadata": {},
     "output_type": "execute_result"
    }
   ],
   "source": [
    "diAP_physics_piecewise"
   ]
  },
  {
   "cell_type": "code",
   "execution_count": 74,
   "id": "68ee103f",
   "metadata": {},
   "outputs": [],
   "source": [
    "with open('diAP_physics_piecewise.pkl', 'wb') as fl:\n",
    "    pickle.dump(diAP_physics_piecewise, fl)"
   ]
  },
  {
   "cell_type": "code",
   "execution_count": null,
   "id": "8eaaa86e",
   "metadata": {},
   "outputs": [],
   "source": []
  }
 ],
 "metadata": {
  "kernelspec": {
   "display_name": "Python 3 (ipykernel)",
   "language": "python",
   "name": "python3"
  },
  "language_info": {
   "codemirror_mode": {
    "name": "ipython",
    "version": 3
   },
   "file_extension": ".py",
   "mimetype": "text/x-python",
   "name": "python",
   "nbconvert_exporter": "python",
   "pygments_lexer": "ipython3",
   "version": "3.9.16"
  }
 },
 "nbformat": 4,
 "nbformat_minor": 5
}
