{
 "cells": [
  {
   "cell_type": "markdown",
   "id": "08b295e3",
   "metadata": {},
   "source": [
    "## Imports"
   ]
  },
  {
   "cell_type": "code",
   "execution_count": 12,
   "id": "cf8b1cbf",
   "metadata": {},
   "outputs": [],
   "source": [
    "import numpy as np\n",
    "import cupy as cp\n",
    "from matplotlib import pyplot as plt, transforms\n",
    "import random\n",
    "import pandas as pd\n",
    "# from Load_Recording_Data import LoadRecordingData, Recording           # (Use this for old data)\n",
    "from load_recording_data import LoadRecordingData#, Recording            # (Use this for new data)\n",
    "import scipy\n",
    "import sklearn\n",
    "from sklearn.model_selection import train_test_split\n",
    "from sklearn.feature_selection import SelectFromModel\n",
    "from sklearn.linear_model import Lasso\n",
    "import pysindy as ps\n",
    "from sklearn.preprocessing import MinMaxScaler, StandardScaler\n",
    "from scipy.integrate import quad\n",
    "import tensorflow as tf\n",
    "import keras\n",
    "from fastdtw import fastdtw\n",
    "import itertools\n",
    "import copy"
   ]
  },
  {
   "cell_type": "code",
   "execution_count": 13,
   "id": "3d690354",
   "metadata": {},
   "outputs": [],
   "source": [
    "gpus = tf.config.list_physical_devices('GPU')\n",
    "gpu_id = 3\n",
    "tf.config.set_visible_devices(gpus[gpu_id], 'GPU')"
   ]
  },
  {
   "cell_type": "markdown",
   "id": "8590b67c",
   "metadata": {},
   "source": [
    "## Load Data"
   ]
  },
  {
   "cell_type": "code",
   "execution_count": 14,
   "id": "9b41a1c1",
   "metadata": {},
   "outputs": [
    {
     "name": "stdout",
     "output_type": "stream",
     "text": [
      "W5FebD1_10nM_Dofe_51_52_8000\n",
      "W5FebD1_10nM_Dofe_57_58_8000\n",
      "W5FebD1_10nM_Dofe_84_85_8000\n",
      "W8FebD2_10nM_Dofe_57_47_8000\n",
      "W8FebD2_10nM_Dofe_84_74_8000\n",
      "W8FebD3_10nM_Dofe_24_14_8000\n",
      "W8FebD3_10nM_Dofe_61_62_8000\n"
     ]
    }
   ],
   "source": [
    "# intrasTrain, extrasTrain, intrasTest, extrasTest = LoadRecordingData()\n",
    "intrasTrainVal, extrasTrainVal, intrasTest, extrasTest = LoadRecordingData()\n",
    "idx_train, idx_val = train_test_split(np.arange(len(intrasTrainVal)), test_size=0.20)#, random_state=42)\n",
    "\n",
    "extrasTrain = extrasTrainVal[idx_train]\n",
    "intrasTrain = intrasTrainVal[idx_train]\n",
    "extrasVal = extrasTrainVal[idx_val]\n",
    "intrasVal = intrasTrainVal[idx_val]\n",
    "\n",
    "# dataset = LoadRecordingData()\n",
    "# idx_train, idx_test = train_test_split(np.arange(len(intrasRaw)), test_size=0.25, random_state=42)\n",
    "\n",
    "# extrasTrain = dataset['8k'].extras_training2\n",
    "# intrasTrain = dataset['8k'].intras_training2\n",
    "# extrasVal = dataset['8k'].extras_val2\n",
    "# intrasVal = dataset['8k'].intras_val2"
   ]
  },
  {
   "cell_type": "markdown",
   "id": "0bf46dd1",
   "metadata": {},
   "source": [
    "## Helper functions"
   ]
  },
  {
   "cell_type": "code",
   "execution_count": 15,
   "id": "88825bcd",
   "metadata": {},
   "outputs": [],
   "source": [
    "# Takes in a 1-dimensional array and a window size, and applies a moving\n",
    "# average filter to data.\n",
    "def moving_filter(data, window_size):\n",
    "    i = 0\n",
    "    moving_averages = []\n",
    "    while i < len(data) - window_size + 1:\n",
    "        this_window = data[i : i + window_size]\n",
    "\n",
    "        window_average = sum(this_window) / window_size\n",
    "        moving_averages.append(window_average)\n",
    "        i += 1\n",
    "\n",
    "    for i in range(window_size - 1):\n",
    "        ind = len(data) - (window_size - i)\n",
    "        moving_averages.append(np.mean(data[ind-window_size:ind]))\n",
    "\n",
    "    return moving_averages\n",
    "\n",
    "def mse(y, p):\n",
    "    return np.mean((y-p)**2)\n",
    "\n",
    "def mae(y, p):\n",
    "    return np.mean(np.absolute(y-p))\n",
    "\n",
    "def dtw(y, p):\n",
    "    distances = []\n",
    "    \n",
    "    for i in range(len(y)):\n",
    "        dist, _ = fastdtw(y[i], p[i])\n",
    "        distances.append(dist)\n",
    "        \n",
    "    return np.mean(np.array(distances))\n",
    "\n",
    "def sigmoid(x):\n",
    "    return 1/(1 + np.exp(-x))\n",
    "\n",
    "def ScaleMaxTo1(arr):\n",
    "    arrMin = np.min(arr, axis=-1, keepdims=True)\n",
    "    arrMax = np.max(arr, axis=-1, keepdims=True)\n",
    "    return ((arr - arrMin)*(1 - arrMin))/(arrMax - arrMin) + arrMin"
   ]
  },
  {
   "cell_type": "markdown",
   "id": "d224cf7a",
   "metadata": {},
   "source": [
    "### Smooth the data by applying moving filter"
   ]
  },
  {
   "cell_type": "code",
   "execution_count": 16,
   "id": "8e2680fa",
   "metadata": {},
   "outputs": [],
   "source": [
    "# Apply moving filter on intras and extras\n",
    "# Training set\n",
    "windowSize = 20\n",
    "temp = []\n",
    "\n",
    "for rec in intrasTrain:\n",
    "    temp.append(moving_filter(rec, windowSize))\n",
    "    \n",
    "intrasTrain = np.array(temp)\n",
    "\n",
    "temp = []\n",
    "\n",
    "for rec in extrasTrain:\n",
    "    smooth = moving_filter(rec, windowSize)\n",
    "#     smooth[np.argmax(rec)] = np.max(rec)\n",
    "#     smooth[np.argmin(rec)] = np.min(rec)\n",
    "    temp.append(smooth)\n",
    "    \n",
    "extrasTrain = np.array(temp)\n",
    "\n",
    "# Validation set\n",
    "temp = []\n",
    "\n",
    "for rec in intrasVal:\n",
    "    temp.append(moving_filter(rec, windowSize))\n",
    "    \n",
    "intrasVal = np.array(temp)\n",
    "\n",
    "temp = []\n",
    "\n",
    "for rec in extrasVal:\n",
    "    smooth = moving_filter(rec, windowSize)\n",
    "#     smooth[np.argmax(rec)] = np.max(rec)\n",
    "#     smooth[np.argmin(rec)] = np.min(rec)\n",
    "    temp.append(smooth)\n",
    "    \n",
    "extrasVal = np.array(temp)\n",
    "\n",
    "\n",
    "# Test set\n",
    "temp = []\n",
    "\n",
    "for rec in intrasTest:\n",
    "    temp.append(moving_filter(rec, windowSize))\n",
    "    \n",
    "intrasTest = np.array(temp)\n",
    "\n",
    "temp = []\n",
    "\n",
    "for rec in extrasTest:\n",
    "    smooth = moving_filter(rec, windowSize)\n",
    "#     smooth[np.argmax(rec)] = np.max(rec)\n",
    "#     smooth[np.argmin(rec)] = np.min(rec)\n",
    "    temp.append(smooth)\n",
    "    \n",
    "extrasTest = np.array(temp)"
   ]
  },
  {
   "cell_type": "markdown",
   "id": "e7902820",
   "metadata": {},
   "source": [
    "### Function to extract features"
   ]
  },
  {
   "cell_type": "code",
   "execution_count": 17,
   "id": "86f2ce42",
   "metadata": {},
   "outputs": [],
   "source": [
    "def GetFeatures(intras, extras):\n",
    "    X = []\n",
    "    Y = []\n",
    "    windowSize = 20\n",
    "    \n",
    "#     featureNames = ['d2eAP', 'deAP', 'eAP', 'exp(d2eAP)', 'exp(deAP)', 'exp(eAP)']#, 'distFromMax', 'distFromMin']\n",
    "#     s = [i for i in range(len(featureNames))]\n",
    "#     combs = [list(itertools.combinations(s, r)) for r in range(len(s)+1)]\n",
    "#     featureCombs = []\n",
    "    \n",
    "#     for comb in combs[1:]:\n",
    "#         for tpl in comb:\n",
    "#             name = \"\"\n",
    "\n",
    "#             for ind in tpl:\n",
    "#                 name += \"*\"+featureNames[ind]\n",
    "\n",
    "#             featureCombs.append(name)\n",
    "\n",
    "    \n",
    "    t = np.array([i for i in range(len(extras[0]))])/len(extras[0])\n",
    "    \n",
    "    for i in range(len(extras)):\n",
    "        iAP = intras[i]\n",
    "        diAP = np.array(moving_filter(np.gradient(iAP), windowSize))\n",
    "        d2iAP = np.array(moving_filter(np.gradient(np.gradient(iAP)), windowSize))\n",
    "\n",
    "        eAP = extras[i]\n",
    "        deAP = np.array(moving_filter(np.gradient(eAP), windowSize))\n",
    "        d2eAP = np.array(moving_filter(np.gradient(deAP), windowSize))\n",
    "            \n",
    "#         iAP = intras[i]\n",
    "#         diAP = np.gradient(iAP)\n",
    "#         d2iAP = np.gradient(diAP)\n",
    "\n",
    "#         eAP = extras[i]\n",
    "#         deAP = np.gradient(eAP)\n",
    "#         d2eAP = np.gradient(deAP)\n",
    "\n",
    "\n",
    "        featureMatrix = [d2eAP, deAP, eAP, t]#, np.exp(d2eAP), np.exp(deAP), np.exp(eAP)]\n",
    "#         featureList = [d2eAP, deAP, eAP, np.exp(d2eAP), np.exp(deAP), np.exp(eAP)]\n",
    "    \n",
    "\n",
    "#         maxInd = np.argmax(eAP[:1500])\n",
    "#         minInd = 1500 + np.argmin(eAP[1500:])\n",
    "\n",
    "#         distFromMax = [i for i in range(len(extras[0]))]\n",
    "#         distFromMin = [i for i in range(len(extras[0]))]\n",
    "\n",
    "#         distFromMax = np.exp(-np.absolute(distFromMax - maxInd))\n",
    "#         distFromMin = np.exp(-np.absolute((distFromMin - minInd)/50))\n",
    "\n",
    "#         featureList.append(distFromMax)\n",
    "#         featureList.append(distFromMin)\n",
    "            \n",
    "#         featureMatrix = []\n",
    "        \n",
    "#         for comb in combs[1:]:\n",
    "#             for tpl in comb:\n",
    "#                 feature = 1\n",
    "                \n",
    "#                 for ind in tpl:\n",
    "#                     feature = feature*featureList[ind]\n",
    "                    \n",
    "#                 featureMatrix.append(feature)\n",
    "        \n",
    "        X.append(np.array(featureMatrix).T)\n",
    "        Y.append(iAP)\n",
    "        \n",
    "#     X = np.array(X)\n",
    "#     Y = np.array(Y)\n",
    "     \n",
    "    return X, Y"
   ]
  },
  {
   "cell_type": "markdown",
   "id": "1582903b",
   "metadata": {},
   "source": [
    "### Extract features from train, val and test data"
   ]
  },
  {
   "cell_type": "code",
   "execution_count": 18,
   "id": "29c76b50",
   "metadata": {},
   "outputs": [],
   "source": [
    "X0, Y0 = GetFeatures(intrasTrain, extrasTrain)"
   ]
  },
  {
   "cell_type": "code",
   "execution_count": 19,
   "id": "46bdcf86",
   "metadata": {},
   "outputs": [],
   "source": [
    "X_val0, Y_val0 = GetFeatures(intrasVal, extrasVal)"
   ]
  },
  {
   "cell_type": "code",
   "execution_count": 20,
   "id": "73e6b6f6",
   "metadata": {},
   "outputs": [],
   "source": [
    "X_test0, Y_test0 = GetFeatures(intrasTest, extrasTest)"
   ]
  },
  {
   "cell_type": "markdown",
   "id": "ae9e2a82",
   "metadata": {},
   "source": [
    "## SINDy model"
   ]
  },
  {
   "cell_type": "code",
   "execution_count": 21,
   "id": "46f47988",
   "metadata": {},
   "outputs": [
    {
     "name": "stdout",
     "output_type": "stream",
     "text": [
      "(x0)' = 243710975.272 1 + 243499409.073 x0 + 211934.233 x1 + 42.369 x2 + -27.047 x3 + 121352082.078 x0^2 + -69720.478 x0 x1 + -1299.375 x0 x2 + -1018.599 x0 x3 + 100832.816 x1^2 + -286.696 x1 x2 + -166.666 x1 x3 + 16.715 x2^2 + -4.852 x2 x3 + -31.400 x3^2 + -243499106.548 exp(x0) + -211863.950 exp(x1) + -39.294 exp(x2) + 34.275 exp(x3)\n"
     ]
    }
   ],
   "source": [
    "differentiation_method = ps.FiniteDifference(order=3)\n",
    "\n",
    "feature_library = ps.PolynomialLibrary(degree=2)\n",
    "#feature_library = ps.FourierLibrary(n_frequencies=5)\n",
    "\n",
    "library_functions = [\n",
    "    lambda x: np.exp(x),\n",
    "#     lambda x: 1.0 / (1 + x),\n",
    "#     lambda x: x,\n",
    "#     lambda x, y: np.sin(x + y),\n",
    "]\n",
    "\n",
    "library_function_names = [\n",
    "    lambda x: \"exp(\" + x + \")\",\n",
    "#     lambda x: \"1/(1 + \" + x + \")\",\n",
    "#     lambda x: x,\n",
    "#     lambda x, y: \"sin(\" + x + \",\" + y + \")\",\n",
    "]\n",
    "\n",
    "custom_library = ps.CustomLibrary(\n",
    "    library_functions=library_functions, function_names=library_function_names\n",
    ")\n",
    "\n",
    "generalized_library = ps.GeneralizedLibrary([feature_library, custom_library])\n",
    "\n",
    "# optimizer = ps.STLSQ(threshold=0.2, alpha=0.5)\n",
    "optimizer = ps.SR3(threshold=0.1, thresholder=\"l2\")\n",
    "# optimizer = ps.SR3(trimming_fraction=0.1)\n",
    "# optimizer = ps.SSR(alpha=0.05)\n",
    "# optimizer = ps.SSR(alpha=0.05, criteria=\"model_residual\")\n",
    "# optimizer = ps.SSR(alpha=0.05, criteria=\"model_residual\", kappa=1e-3)\n",
    "# optimizer = ps.FROLS(alpha=0.05)\n",
    "# optimizer = ps.FROLS(alpha=0.05, kappa=1e-7)\n",
    "# optimizer = Lasso(alpha=0.000001)#, max_iter=2000)\n",
    "\n",
    "discrete = False\n",
    "\n",
    "model = copy.deepcopy(ps.SINDy(differentiation_method=differentiation_method,\n",
    "    feature_library=generalized_library,\n",
    "    optimizer=optimizer,\n",
    "    discrete_time=discrete))\n",
    "\n",
    "model.fit(X0, t=1, x_dot=Y0, multiple_trajectories=True)\n",
    "\n",
    "model.print()"
   ]
  },
  {
   "cell_type": "markdown",
   "id": "a6eafdf2",
   "metadata": {},
   "source": [
    "#### A small digression to experiment with predicting residuals in iAP (inspired by gradient boosting). Can be ignored for reproducing numbers"
   ]
  },
  {
   "cell_type": "code",
   "execution_count": 62,
   "id": "a9d387bb",
   "metadata": {},
   "outputs": [
    {
     "name": "stdout",
     "output_type": "stream",
     "text": [
      "(x0)' = -79.594 1 + -79.548 x0 + -0.047 x1 + -39.752 x0^2 + -0.002 x0 x1 + -0.023 x1^2 + 79.548 exp(x0) + 0.047 exp(x1)\n"
     ]
    }
   ],
   "source": [
    "predD1 = np.array(model.predict(X0, multiple_trajectories=True))\n",
    "predD1 = np.reshape(predD1, (predD1.shape[:2]))\n",
    "\n",
    "# t = np.array([i for i in range(len(extrasTrain[0]))])/len(extrasTrain[0])\n",
    "# predD1 = [np.array([x, t]).T for x in predD1]\n",
    "\n",
    "model2 = copy.deepcopy(ps.SINDy(differentiation_method=differentiation_method,\n",
    "    feature_library=generalized_library,\n",
    "    optimizer=optimizer,\n",
    "    discrete_time=discrete))\n",
    "\n",
    "\n",
    "r = Y0 - predD1\n",
    "model2.fit(X0, t=1, x_dot=[x for x in r], multiple_trajectories=True)\n",
    "\n",
    "model2.print()"
   ]
  },
  {
   "cell_type": "markdown",
   "id": "c44312ce",
   "metadata": {},
   "source": [
    "### Evaluate model on test data"
   ]
  },
  {
   "cell_type": "code",
   "execution_count": 22,
   "id": "f2b31942",
   "metadata": {},
   "outputs": [
    {
     "name": "stdout",
     "output_type": "stream",
     "text": [
      "MSE on test d0 with reg_selected 0.020291184671896445\n",
      "MAE on test d0 with reg_selected 0.09527631983425473\n",
      "DTW on test d0 with reg_selected 261.314903120325\n"
     ]
    }
   ],
   "source": [
    "# predD2 = np.array(model.predict(X_test0, multiple_trajectories=True))    \n",
    "# predD2 = np.reshape(predD2, (predD2.shape[:2]))\n",
    "\n",
    "# predD1 = np.array(model.predict(X_test0, multiple_trajectories=True))    \n",
    "# predD1 = np.reshape(predD1, (predD1.shape[:2]))\n",
    "# predD1 = np.cumsum(predD2, axis=1)\n",
    "\n",
    "# res = np.array(model2.predict(X_test0, multiple_trajectories=True))\n",
    "# res = np.reshape(res, res.shape[:2])\n",
    "\n",
    "# predD1 += res\n",
    "# predD1 = [np.array([x, t]).T for x in predD1]\n",
    "\n",
    "pred = np.array(model.predict(X_test0, multiple_trajectories=True))\n",
    "pred = np.reshape(pred, (pred.shape[:2]))\n",
    "# pred = np.cumsum(predD1, axis=1)\n",
    "\n",
    "# yd2 = np.array(Y_test0)\n",
    "# yd1 = np.cumsum(yd2, axis=1)#np.array(Y_test0)\n",
    "y = intrasTest#np.cumsum(yd1, axis=1)\n",
    "# yiAP = np.cumsum(y, axis=1)\n",
    "\n",
    "# print(\"MSE on test d1 with reg_selected\", mse(predD1, yd1))\n",
    "print(\"MSE on test d0 with reg_selected\", mse(pred, y))\n",
    "# print(\"MAE on test d1 with reg_selected\", mae(predD1, yd1))\n",
    "print(\"MAE on test d0 with reg_selected\", mae(pred, y))\n",
    "# print(\"DTW on test d1 with reg_selected\", dtw(predD1, yd1))\n",
    "print(\"DTW on test d0 with reg_selected\", dtw(pred, y))"
   ]
  },
  {
   "cell_type": "code",
   "execution_count": 17,
   "id": "4f0bb008",
   "metadata": {},
   "outputs": [],
   "source": [
    "#311, 126, 280\n",
    "import pickle\n",
    "diAP_sindy = {}"
   ]
  },
  {
   "cell_type": "markdown",
   "id": "e8eda08a",
   "metadata": {},
   "source": [
    "### Prediction plots for a random recording from the test set"
   ]
  },
  {
   "cell_type": "code",
   "execution_count": 67,
   "id": "42a79b51",
   "metadata": {},
   "outputs": [
    {
     "name": "stdout",
     "output_type": "stream",
     "text": [
      "306\n"
     ]
    },
    {
     "data": {
      "image/png": "[encoded data removed]",
      "text/plain": [
       "<Figure size 1200x500 with 2 Axes>"
      ]
     },
     "metadata": {},
     "output_type": "display_data"
    }
   ],
   "source": [
    "ind = random.randint(0, len(X0))#126, 311, 268, 280, 310 ---- 266, 283, 310, 186, 4 --- 319, 274\n",
    "print(ind)\n",
    "x, y = X0[ind], Y0[ind]\n",
    "\n",
    "# predD2 = (model.predict(x)).reshape((-1))\n",
    "# predD1 = np.cumsum(predD2)\n",
    "# predD1 = (model.predict(x)).reshape((-1))\n",
    "# predD1 = model2.predict(np.array([predD1, t]).T)\n",
    "# predD1 = model3.predict(np.array([predD1, t]).T)\n",
    "\n",
    "transparency = 0.7\n",
    "fig0, ax0 = plt.subplots(nrows=1, ncols=2, figsize=(12, 5))\n",
    "fig0.tight_layout(pad=5)\n",
    "\n",
    "# Plot first derivative\n",
    "ax0[0].plot(pred)\n",
    "ax0[0].plot(y, alpha=transparency)\n",
    "ax0[0].legend(['Prediction', 'Ground Truth'])\n",
    "ax0[0].title.set_text(\"First Derivative\")\n",
    "ax0[0].set_xlabel(\"Timesteps\")\n",
    "ax0[0].set_ylabel(\"diAP\")\n",
    "\n",
    "# Plot iAP\n",
    "pred = (model.predict(x)).reshape((-1))\n",
    "# pred = np.cumsum(predD1)\n",
    "\n",
    "# predMin = np.min(predIntegral, keepdims=True)\n",
    "# predMax = np.max(predIntegral, keepdims=True)\n",
    "# predIntegral = ((predIntegral-predMin)*(1 - predMin))/(predMax - predMin) + predMin\n",
    "\n",
    "ax0[1].plot(pred, linestyle='dashed')\n",
    "# ax0[1].plot(moving_filter(np.gradient(intrasTest[ind]), windowSize), alpha=transparency)\n",
    "ax0[1].plot(intrasTrain[ind], alpha=transparency, color='red')\n",
    "ax0[1].legend(['Prediction', 'Ground Truth'], prop={'size': 18})\n",
    "ax0[1].title.set_text(\"Intra-cellular AP\")\n",
    "ax0[1].title.set_fontsize(20)\n",
    "ax0[1].set_xlabel(\"Timesteps\", fontsize=20)\n",
    "ax0[1].set_ylabel(\"iAP\", fontsize=20)\n",
    "ax0[1].set_ylim([-0.3, 1.1])\n",
    "ax0[1].tick_params(axis='x', labelsize=16)\n",
    "ax0[1].tick_params(axis='y', labelsize=16)"
   ]
  },
  {
   "cell_type": "code",
   "execution_count": 65,
   "id": "e9a30f0a",
   "metadata": {},
   "outputs": [
    {
     "ename": "NameError",
     "evalue": "name 'diAP_sindy' is not defined",
     "output_type": "error",
     "traceback": [
      "\u001b[0;31m---------------------------------------------------------------------------\u001b[0m",
      "\u001b[0;31mNameError\u001b[0m                                 Traceback (most recent call last)",
      "Cell \u001b[0;32mIn[65], line 1\u001b[0m\n\u001b[0;32m----> 1\u001b[0m \u001b[43mdiAP_sindy\u001b[49m[\u001b[38;5;241m280\u001b[39m] \u001b[38;5;241m=\u001b[39m [pred, intrasTest[ind]]\n",
      "\u001b[0;31mNameError\u001b[0m: name 'diAP_sindy' is not defined"
     ]
    }
   ],
   "source": [
    "diAP_sindy[280] = [pred, intrasTest[ind]]"
   ]
  },
  {
   "cell_type": "code",
   "execution_count": 24,
   "id": "7275f259",
   "metadata": {},
   "outputs": [
    {
     "data": {
      "text/plain": [
       "{311: [AxesArray([ 0.00045381,  0.0009099 ,  0.00136852, ..., -0.17418053,\n",
       "             -0.17415418, -0.17413184]),\n",
       "  array([0.12428041, 0.12469824, 0.12483751, ..., 0.00389972, 0.00376045,\n",
       "         0.00371402])],\n",
       " 126: [AxesArray([ 4.97044389e-05,  1.20075939e-04,  1.92920064e-04, ...,\n",
       "             -5.91884880e-02, -5.91789041e-02, -5.91623601e-02]),\n",
       "  array([0.13106961, 0.13123939, 0.13123939, ..., 0.00622524, 0.00611205,\n",
       "         0.00614035])],\n",
       " 280: [AxesArray([0.00019457, 0.00037383, 0.0005404 , ..., 0.16585139,\n",
       "             0.16604546, 0.16625737]),\n",
       "  array([0.10603805, 0.10603805, 0.10595533, ..., 0.00339123, 0.00343259,\n",
       "         0.00330852])]}"
      ]
     },
     "execution_count": 24,
     "metadata": {},
     "output_type": "execute_result"
    }
   ],
   "source": [
    "diAP_sindy"
   ]
  },
  {
   "cell_type": "code",
   "execution_count": null,
   "id": "ca65a107",
   "metadata": {},
   "outputs": [],
   "source": []
  }
 ],
 "metadata": {
  "kernelspec": {
   "display_name": "Python 3 (ipykernel)",
   "language": "python",
   "name": "python3"
  },
  "language_info": {
   "codemirror_mode": {
    "name": "ipython",
    "version": 3
   },
   "file_extension": ".py",
   "mimetype": "text/x-python",
   "name": "python",
   "nbconvert_exporter": "python",
   "pygments_lexer": "ipython3",
   "version": "3.9.16"
  }
 },
 "nbformat": 4,
 "nbformat_minor": 5
}
