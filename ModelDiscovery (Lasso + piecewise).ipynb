{
 "cells": [
  {
   "cell_type": "markdown",
   "id": "6beb20cf",
   "metadata": {},
   "source": [
    "## Imports"
   ]
  },
  {
   "cell_type": "code",
   "execution_count": 1,
   "id": "cf8b1cbf",
   "metadata": {},
   "outputs": [
    {
     "name": "stderr",
     "output_type": "stream",
     "text": [
      "2024-02-07 22:07:20.627923: I tensorflow/core/platform/cpu_feature_guard.cc:193] This TensorFlow binary is optimized with oneAPI Deep Neural Network Library (oneDNN) to use the following CPU instructions in performance-critical operations:  AVX2 FMA\n",
      "To enable them in other operations, rebuild TensorFlow with the appropriate compiler flags.\n",
      "2024-02-07 22:07:21.961834: W tensorflow/compiler/xla/stream_executor/platform/default/dso_loader.cc:64] Could not load dynamic library 'libnvinfer.so.7'; dlerror: libnvinfer.so.7: cannot open shared object file: No such file or directory\n",
      "2024-02-07 22:07:21.962527: W tensorflow/compiler/xla/stream_executor/platform/default/dso_loader.cc:64] Could not load dynamic library 'libnvinfer_plugin.so.7'; dlerror: libnvinfer_plugin.so.7: cannot open shared object file: No such file or directory\n",
      "2024-02-07 22:07:21.962538: W tensorflow/compiler/tf2tensorrt/utils/py_utils.cc:38] TF-TRT Warning: Cannot dlopen some TensorRT libraries. If you would like to use Nvidia GPU with TensorRT, please make sure the missing libraries mentioned above are installed properly.\n"
     ]
    }
   ],
   "source": [
    "import numpy as np\n",
    "from matplotlib import pyplot as plt, transforms\n",
    "import random\n",
    "import pandas as pd\n",
    "# from Load_Recording_Data import LoadRecordingData, Recording     # (Use this for old data)\n",
    "from load_recording_data import LoadRecordingData                 # (Use this for new data)\n",
    "import scipy\n",
    "import sklearn\n",
    "from sklearn.model_selection import train_test_split\n",
    "from sklearn.feature_selection import SelectFromModel\n",
    "from sklearn.linear_model import Lasso\n",
    "import pysindy as ps\n",
    "from sklearn.preprocessing import MinMaxScaler, StandardScaler\n",
    "from scipy.integrate import quad\n",
    "import tensorflow as tf\n",
    "import keras\n",
    "from fastdtw import fastdtw\n",
    "import itertools"
   ]
  },
  {
   "cell_type": "code",
   "execution_count": 2,
   "id": "3d690354",
   "metadata": {},
   "outputs": [
    {
     "name": "stdout",
     "output_type": "stream",
     "text": [
      "[PhysicalDevice(name='/physical_device:GPU:0', device_type='GPU'), PhysicalDevice(name='/physical_device:GPU:1', device_type='GPU'), PhysicalDevice(name='/physical_device:GPU:2', device_type='GPU'), PhysicalDevice(name='/physical_device:GPU:3', device_type='GPU')]\n"
     ]
    }
   ],
   "source": [
    "gpus = tf.config.list_physical_devices('GPU')\n",
    "print(gpus)\n",
    "gpu_id = 2\n",
    "tf.config.set_visible_devices(gpus[gpu_id], 'GPU')"
   ]
  },
  {
   "cell_type": "markdown",
   "id": "b8a6a90d",
   "metadata": {},
   "source": [
    "## Load data"
   ]
  },
  {
   "cell_type": "code",
   "execution_count": 3,
   "id": "9b41a1c1",
   "metadata": {},
   "outputs": [
    {
     "name": "stdout",
     "output_type": "stream",
     "text": [
      "W5FebD1_10nM_Dofe_51_52_8000\n",
      "W5FebD1_10nM_Dofe_57_58_8000\n",
      "W5FebD1_10nM_Dofe_84_85_8000\n",
      "W8FebD2_10nM_Dofe_57_47_8000\n",
      "W8FebD2_10nM_Dofe_84_74_8000\n",
      "W8FebD3_10nM_Dofe_24_14_8000\n",
      "W8FebD3_10nM_Dofe_61_62_8000\n"
     ]
    }
   ],
   "source": [
    "intrasTrainVal, extrasTrainVal, intrasTest, extrasTest = LoadRecordingData()\n",
    "idx_train, idx_val = train_test_split(np.arange(len(intrasTrainVal)), test_size=0.20) #, random_state=42)\n",
    "\n",
    "extrasTrain = extrasTrainVal[idx_train]\n",
    "intrasTrain = intrasTrainVal[idx_train]\n",
    "extrasVal = extrasTrainVal[idx_val]\n",
    "intrasVal = intrasTrainVal[idx_val]\n",
    "\n",
    "\n",
    "# dataset = LoadRecordingData()\n",
    "# extrasTrain = dataset['8k'].extras_training2\n",
    "# intrasTrain = dataset['8k'].intras_training2\n",
    "# extrasVal = dataset['8k'].extras_val2\n",
    "# intrasVal = dataset['8k'].intras_val2\n",
    "# extrasTest = dataset['8k'].extras_unseen2\n",
    "# intrasTest = dataset['8k'].intras_unseen2"
   ]
  },
  {
   "cell_type": "markdown",
   "id": "cc020816",
   "metadata": {},
   "source": [
    "## Helper functions"
   ]
  },
  {
   "cell_type": "code",
   "execution_count": 4,
   "id": "88825bcd",
   "metadata": {},
   "outputs": [],
   "source": [
    "# Takes in a 1-dimensional array and a window size, and applies a moving\n",
    "# average filter to data.\n",
    "def moving_filter(data, window_size):\n",
    "    i = 0\n",
    "    moving_averages = []\n",
    "    while i < len(data) - window_size + 1:\n",
    "        this_window = data[i : i + window_size]\n",
    "\n",
    "        window_average = sum(this_window) / window_size\n",
    "        moving_averages.append(window_average)\n",
    "        i += 1\n",
    "\n",
    "    for i in range(window_size - 1):\n",
    "        ind = len(data) - (window_size - i)\n",
    "        moving_averages.append(np.mean(data[ind-window_size:ind]))\n",
    "\n",
    "    return moving_averages\n",
    "\n",
    "def mse(y, p):\n",
    "    return np.mean((y-p)**2)\n",
    "\n",
    "def mae(y, p):\n",
    "    return np.mean(np.absolute(y-p))\n",
    "\n",
    "def dtw(y, p):\n",
    "    distances = []\n",
    "    \n",
    "    for i in range(len(y)):\n",
    "        dist, _ = fastdtw(y[i], p[i])\n",
    "        distances.append(dist)\n",
    "        \n",
    "    return np.mean(np.array(distances))\n",
    "\n",
    "def sigmoid(x):\n",
    "    return 1/(1 + np.exp(-x))"
   ]
  },
  {
   "cell_type": "markdown",
   "id": "d242da6e",
   "metadata": {},
   "source": [
    "### Smooth the data by applying moving filter"
   ]
  },
  {
   "cell_type": "code",
   "execution_count": 5,
   "id": "8e2680fa",
   "metadata": {},
   "outputs": [],
   "source": [
    "# Apply moving filter on intras and extras\n",
    "# Training set\n",
    "windowSize = 20\n",
    "temp = []\n",
    "\n",
    "for rec in intrasTrain:\n",
    "    temp.append(moving_filter(rec, windowSize))\n",
    "    \n",
    "intrasTrain = np.array(temp)\n",
    "temp = []\n",
    "\n",
    "for rec in extrasTrain:\n",
    "    temp.append(moving_filter(rec, windowSize))\n",
    "    \n",
    "extrasTrain = np.array(temp)\n",
    "\n",
    "# Validation set\n",
    "temp = []\n",
    "\n",
    "for rec in intrasVal:\n",
    "    temp.append(moving_filter(rec, windowSize))\n",
    "    \n",
    "intrasVal = np.array(temp)\n",
    "temp = []\n",
    "\n",
    "for rec in extrasVal:\n",
    "    temp.append(moving_filter(rec, windowSize))\n",
    "    \n",
    "extrasVal = np.array(temp)\n",
    "\n",
    "\n",
    "# Test set\n",
    "temp = []\n",
    "\n",
    "for rec in intrasTest:\n",
    "    temp.append(moving_filter(rec, windowSize))\n",
    "    \n",
    "intrasTest = np.array(temp)\n",
    "temp = []\n",
    "\n",
    "for rec in extrasTest:\n",
    "    temp.append(moving_filter(rec, windowSize))\n",
    "    \n",
    "extrasTest = np.array(temp)"
   ]
  },
  {
   "cell_type": "markdown",
   "id": "34e9440c",
   "metadata": {},
   "source": [
    "### Function to extract features"
   ]
  },
  {
   "cell_type": "code",
   "execution_count": 6,
   "id": "86f2ce42",
   "metadata": {},
   "outputs": [],
   "source": [
    "def GetFeatures(intras, extras):\n",
    "    XBefore = []\n",
    "    XAfter = []\n",
    "    YBefore = []\n",
    "    YAfter = []\n",
    "    indicesBefore = []\n",
    "    indicesAfter = []\n",
    "    windowSize = 20\n",
    "    \n",
    "    featureNames = ['d2eAP', 'deAP', 'eAP', 't'] #, 'exp(d2eAP)', 'exp(deAP)', 'exp(eAP)', 't']#, 'distFromMax', 'distFromMin']\n",
    "    s = [i for i in range(len(featureNames))]\n",
    "    combs = [list(itertools.combinations(s, r)) for r in range(len(s)+1)]\n",
    "    featureCombs = []\n",
    "    \n",
    "    for comb in combs[1:]:\n",
    "        for tpl in comb:\n",
    "            name = \"\"\n",
    "\n",
    "            for ind in tpl:\n",
    "                name += \"*\"+featureNames[ind]\n",
    "\n",
    "            featureCombs.append(name)\n",
    "            \n",
    "    t = np.array([i for i in range(len(extras[0]))])/len(extras[0])\n",
    "    \n",
    "    for i in range(len(extras)):\n",
    "        iAP = intras[i]\n",
    "        diAP = np.array(moving_filter(np.gradient(iAP), windowSize))\n",
    "        d2iAP = np.array(moving_filter(np.gradient(diAP), windowSize))\n",
    "\n",
    "        eAP = extras[i]\n",
    "        deAP = np.array(moving_filter(np.gradient(eAP), windowSize))\n",
    "        d2eAP = np.array(moving_filter(np.gradient(deAP), windowSize))\n",
    "        \n",
    "        breakInd = np.argmax(eAP[:1500])\n",
    "            \n",
    "#         iAP = intras[i]\n",
    "#         diAP = np.gradient(iAP)\n",
    "#         d2iAP = np.gradient(diAP)\n",
    "\n",
    "#         eAP = extras[i]\n",
    "#         deAP = np.gradient(eAP)\n",
    "#         d2eAP = np.gradient(deAP)\n",
    "\n",
    "        featureList1 = [d2eAP[:breakInd], deAP[:breakInd], eAP[:breakInd], t[:breakInd]] #np.exp(d2eAP)[:breakInd], np.exp(deAP)[:breakInd], np.exp(eAP)[:breakInd], t[:breakInd]]\n",
    "        featureList2 = [d2eAP[breakInd:], deAP[breakInd:], eAP[breakInd:], t[breakInd:]] #np.exp(d2eAP)[breakInd:], np.exp(deAP)[breakInd:], np.exp(eAP)[breakInd:], t[breakInd:]]\n",
    "            \n",
    "        featureMatrix1 = []\n",
    "        featureMatrix2 = []\n",
    "        \n",
    "        for comb in combs[1:]:\n",
    "            for tpl in comb:\n",
    "                feature1 = 1\n",
    "                feature2 = 1\n",
    "                \n",
    "                for ind in tpl:\n",
    "                    feature1 = feature1*featureList1[ind]\n",
    "                    feature2 = feature2*featureList2[ind]\n",
    "                    \n",
    "                featureMatrix1.append(feature1)\n",
    "                featureMatrix2.append(feature2)\n",
    "        \n",
    "        start = int(len(XBefore))\n",
    "        XBefore.extend(np.array(featureMatrix1).T)\n",
    "        end = int(len(XBefore))-1\n",
    "        indicesBefore.append([start, end])\n",
    "        \n",
    "        start = int(len(XAfter))\n",
    "        XAfter.extend(np.array(featureMatrix2).T)\n",
    "        end = int(len(XAfter))-1\n",
    "        indicesAfter.append([start, end])\n",
    "        \n",
    "        YBefore.extend(iAP[:breakInd])\n",
    "        YAfter.extend(iAP[breakInd:])\n",
    "        \n",
    "    XBefore = np.array(XBefore)\n",
    "    XAfter = np.array(XAfter)\n",
    "    YBefore = np.array(YBefore)\n",
    "    YAfter = np.array(YAfter)\n",
    "     \n",
    "    return XBefore, XAfter, YBefore, YAfter, indicesBefore, indicesAfter"
   ]
  },
  {
   "cell_type": "markdown",
   "id": "60e14ccf",
   "metadata": {},
   "source": [
    "### Extract features from training data"
   ]
  },
  {
   "cell_type": "code",
   "execution_count": 7,
   "id": "29c76b50",
   "metadata": {},
   "outputs": [],
   "source": [
    "XBefore, XAfter, YBefore, YAfter, indicesBefore, indicesAfter = GetFeatures(intrasTrain, extrasTrain)\n",
    "scalerBefore = StandardScaler()\n",
    "scalerAfter = StandardScaler()\n",
    "# scalerY0 = StandardScaler()\n",
    "\n",
    "XBefore = scalerBefore.fit_transform(XBefore)\n",
    "XAfter = scalerAfter.fit_transform(XAfter)\n",
    "# Y0 = scalerY0.fit_transform(Y0.reshape(-1, 1)).reshape(-1)"
   ]
  },
  {
   "cell_type": "markdown",
   "id": "a4ae4bbe",
   "metadata": {},
   "source": [
    "### Extract features from validation and test data for hyperparam tuning and evaluation"
   ]
  },
  {
   "cell_type": "code",
   "execution_count": 8,
   "id": "46bdcf86",
   "metadata": {},
   "outputs": [],
   "source": [
    "X_valBefore, X_valAfter, Y_valBefore, Y_valAfter, indicesBefore_val, indicesAfter_val = GetFeatures(intrasVal, extrasVal)\n",
    "X_valBefore = scalerBefore.transform(X_valBefore)\n",
    "X_valAfter = scalerAfter.transform(X_valAfter)\n",
    "# Y_val0 = scalerY0.transform(Y_val0.reshape(-1, 1)).reshape(-1)"
   ]
  },
  {
   "cell_type": "code",
   "execution_count": 9,
   "id": "5cf84183",
   "metadata": {},
   "outputs": [],
   "source": [
    "X_testBefore, X_testAfter, Y_testBefore, Y_testAfter, indicesBefore_test, indicesAfter_test = GetFeatures(intrasTest, extrasTest)\n",
    "X_testBefore = scalerBefore.transform(X_testBefore)\n",
    "X_testAfter = scalerAfter.transform(X_testAfter)"
   ]
  },
  {
   "cell_type": "markdown",
   "id": "ca0f9531",
   "metadata": {},
   "source": [
    "### Linear Regression model using Scikit and Lasso selection"
   ]
  },
  {
   "cell_type": "code",
   "execution_count": 10,
   "id": "b8ae1a85",
   "metadata": {},
   "outputs": [
    {
     "name": "stdout",
     "output_type": "stream",
     "text": [
      "[False False  True False False False False False False  True False False\n",
      " False False False]\n",
      "[False False False  True False False False False False  True False False\n",
      " False  True False]\n",
      "[0.00476949 0.01119521]\n",
      "0.14219660994228364\n",
      "[-0.31447902  0.00047627  0.0102037 ]\n",
      "0.44779654235834426\n"
     ]
    }
   ],
   "source": [
    "lamda1 = 0.01\n",
    "lamda2 = 0.01\n",
    "\n",
    "selector1 = SelectFromModel(Lasso(alpha=lamda1, random_state=10))\n",
    "selector2 = SelectFromModel(Lasso(alpha=lamda2, random_state=10))\n",
    "\n",
    "selector1.fit(XBefore, YBefore)\n",
    "selector2.fit(XAfter, YAfter)\n",
    "\n",
    "print(selector1.get_support())\n",
    "print(selector2.get_support())\n",
    "\n",
    "XBefore_selected = selector1.transform(XBefore)\n",
    "XAfter_selected = selector2.transform(XAfter)\n",
    "\n",
    "reg_selected1 = Lasso(alpha=lamda1, random_state=10).fit(XBefore_selected, YBefore)\n",
    "reg_selected2 = Lasso(alpha=lamda2, random_state=10).fit(XAfter_selected, YAfter)\n",
    "\n",
    "print(reg_selected1.coef_)\n",
    "print(reg_selected1.intercept_)\n",
    "\n",
    "print(reg_selected2.coef_)\n",
    "print(reg_selected2.intercept_)\n",
    "\n",
    "# predTrain = reg_selected.predict(X_selected)\n",
    "# print(\"MSE on train with reg_selected\", mse(predTrain, Y))\n",
    "# print(\"MAE on train with reg_selected\", mae(predTrain, Y))"
   ]
  },
  {
   "cell_type": "markdown",
   "id": "2781505d",
   "metadata": {},
   "source": [
    "### Evaluate model on validation data"
   ]
  },
  {
   "cell_type": "code",
   "execution_count": null,
   "id": "8a6b3ce5",
   "metadata": {},
   "outputs": [],
   "source": [
    "valOut = []\n",
    "for i in range(len(indicesBefore_val)):\n",
    "    valOut1 = reg_selected1.predict(selector1.transform(X_valBefore[indicesBefore_val[i][0]:indicesBefore_val[i][1]+1])).reshape((-1))\n",
    "    valOut2 = reg_selected2.predict(selector2.transform(X_valAfter[indicesAfter_val[i][0]:indicesAfter_val[i][1]+1])).reshape((-1))\n",
    "    valOut.extend(np.concatenate([valOut1, valOut2], 0))\n",
    "    \n",
    "valOut = np.array(valOut)\n",
    "\n",
    "# predd2_selected = np.reshape(valOut, (-1, 8000))\n",
    "\n",
    "# predd1_selected = np.reshape(valOut, (-1, 8000))\n",
    "# predd1_selected = np.cumsum(predd2_selected, axis=1)\n",
    "\n",
    "prediAP_selected = np.reshape(valOut, (-1, 8000))\n",
    "# prediAP_selected = np.cumsum(predd1_selected, axis=1)\n",
    "\n",
    "yiAP = intrasVal\n",
    "\n",
    "print(\"MSE on val d0 with reg_selected\", mse(prediAP_selected, yiAP))\n",
    "print(\"MAE on val d0 with reg_selected\", mae(prediAP_selected, yiAP))\n",
    "print(\"DTW on val d0 with reg_selected\", dtw(prediAP_selected, yiAP))"
   ]
  },
  {
   "cell_type": "code",
   "execution_count": null,
   "id": "ad97bebb",
   "metadata": {},
   "outputs": [],
   "source": [
    "featureNames = ['d2eAP', 'deAP', 'eAP', 't'] #, 'np.exp(d2eAP)', 'np.exp(deAP)', 'np.exp(eAP)', 't']#, 'distFromMax', 'distFromMin']\n",
    "s = [i for i in range(len(featureNames))]\n",
    "combs = [list(itertools.combinations(s, r)) for r in range(len(s)+1)]\n",
    "featureCombs = []\n",
    "\n",
    "for comb in combs[1:]:\n",
    "    for tpl in comb:\n",
    "        name = \"\"\n",
    "\n",
    "        for ind in tpl:\n",
    "            name += \"*\"+featureNames[ind]\n",
    "\n",
    "        featureCombs.append(name)\n",
    "\n",
    "#### Only for weight params\n",
    "# featureCombs.extend([\"max\"+str(i) for i in range(-50, 50)])\n",
    "# featureCombs.extend([\"min\"+str(i) for i in range(100)])\n",
    "####\n",
    "\n",
    "print(np.array(featureCombs)[selector1.get_support()])\n",
    "print(np.array(featureCombs)[selector2.get_support()])"
   ]
  },
  {
   "cell_type": "markdown",
   "id": "e3cbe8d5",
   "metadata": {},
   "source": [
    "### Evaluate model on test data"
   ]
  },
  {
   "cell_type": "code",
   "execution_count": 11,
   "id": "1d533b99",
   "metadata": {},
   "outputs": [
    {
     "name": "stdout",
     "output_type": "stream",
     "text": [
      "MSE on test d0 with reg_selected 0.005934238759531112\n",
      "MAE on test d0 with regselected 0.06117817746970325\n",
      "DTW on test d0 with reg_selected 44.64179899276059\n"
     ]
    }
   ],
   "source": [
    "testOut = []\n",
    "for i in range(len(indicesBefore_test)):\n",
    "    testOut1 = reg_selected1.predict(selector1.transform(X_testBefore[indicesBefore_test[i][0]:indicesBefore_test[i][1]+1])).reshape((-1))\n",
    "    testOut2 = reg_selected2.predict(selector2.transform(X_testAfter[indicesAfter_test[i][0]:indicesAfter_test[i][1]+1])).reshape((-1))\n",
    "    testOut.extend(np.concatenate([testOut1, testOut2], 0))\n",
    "    \n",
    "testOut = np.array(testOut)\n",
    "\n",
    "# predd2_selected = np.reshape(testOut, (-1, 8000))\n",
    "\n",
    "# predd1_selected = np.reshape(testOut, (-1, 8000))\n",
    "# predd1_selected = np.cumsum(predd2_selected, axis=1)\n",
    "\n",
    "prediAP_selected = np.reshape(testOut, (-1, 8000))\n",
    "# prediAP_selected = np.cumsum(predd1_selected, axis=1)\n",
    "\n",
    "\n",
    "yiAP = intrasTest\n",
    "\n",
    "print(\"MSE on test d0 with reg_selected\", mse(prediAP_selected, yiAP))\n",
    "print(\"MAE on test d0 with regselected\", mae(prediAP_selected, yiAP))\n",
    "print(\"DTW on test d0 with reg_selected\", dtw(prediAP_selected, yiAP))"
   ]
  },
  {
   "cell_type": "code",
   "execution_count": null,
   "id": "aeebc852",
   "metadata": {},
   "outputs": [],
   "source": [
    "# 219, 133, 48\n",
    "import pickle\n",
    "diAP_physics_piecewise = {}"
   ]
  },
  {
   "cell_type": "markdown",
   "id": "97d165f2",
   "metadata": {},
   "source": [
    "### Choose a recording at random from the test set"
   ]
  },
  {
   "cell_type": "code",
   "execution_count": 26,
   "id": "7e2674b1",
   "metadata": {},
   "outputs": [
    {
     "name": "stdout",
     "output_type": "stream",
     "text": [
      "5\n"
     ]
    }
   ],
   "source": [
    "ind = 5#random.randint(0, len(extrasTest))#219, 133, 48\n",
    "print(ind)\n",
    "\n",
    "xBefore = selector1.transform(X_testBefore)[indicesBefore_test[ind][0]:indicesBefore_test[ind][1]]\n",
    "xAfter = selector2.transform(X_testAfter)[indicesAfter_test[ind][0]:indicesAfter_test[ind][1]]\n",
    "yBefore = Y_testBefore[indicesBefore_test[ind][0]:indicesBefore_test[ind][1]]\n",
    "yAfter = Y_testAfter[indicesAfter_test[ind][0]:indicesAfter_test[ind][1]]"
   ]
  },
  {
   "cell_type": "markdown",
   "id": "2cdb7e55",
   "metadata": {},
   "source": [
    "### Get model prediction for the chosen recording"
   ]
  },
  {
   "cell_type": "code",
   "execution_count": 27,
   "id": "f0ac5893",
   "metadata": {},
   "outputs": [],
   "source": [
    "out1 = reg_selected1.predict(xBefore)\n",
    "# out1 = tf.reshape(out1, (-1)).numpy()\n",
    "out2 = reg_selected2.predict(xAfter)\n",
    "# out2 = tf.reshape(out2, (-1)).numpy()\n",
    "pred = np.concatenate((out1, out2))\n",
    "# pred = reg_selected.predict(x)\n",
    "# pred1 = reg1.predict(x1)"
   ]
  },
  {
   "cell_type": "markdown",
   "id": "c11622ea",
   "metadata": {},
   "source": [
    "### Prediction plots"
   ]
  },
  {
   "cell_type": "code",
   "execution_count": 28,
   "id": "6531ae83",
   "metadata": {},
   "outputs": [
    {
     "data": {
      "image/png": "[encoded data removed]",
      "text/plain": [
       "<Figure size 1200x500 with 2 Axes>"
      ]
     },
     "metadata": {},
     "output_type": "display_data"
    }
   ],
   "source": [
    "transparency = 0.7\n",
    "fig0, ax0 = plt.subplots(nrows=1, ncols=2, figsize=(12, 5))\n",
    "fig0.tight_layout(pad=4)\n",
    "\n",
    "# Plot second derivative\n",
    "ax0[0].plot(pred)\n",
    "ax0[0].plot(intrasTest[ind], alpha=transparency)\n",
    "ax0[0].legend(['Prediction', 'Ground Truth'])\n",
    "ax0[0].title.set_text(\"First Derivative\")\n",
    "ax0[0].set_xlabel(\"Timesteps\")\n",
    "ax0[0].set_ylabel(\"diAP\")\n",
    "\n",
    "# Plot first derivative\n",
    "ax0[1].plot(pred, linestyle='dashed')\n",
    "# ax0[1].plot(moving_filter(np.gradient(intrasTest[ind]), windowSize), alpha=transparency)\n",
    "ax0[1].plot(intrasTest[ind], alpha=transparency, color='red')\n",
    "ax0[1].legend(['Prediction', 'Ground Truth'], prop={'size': 18})\n",
    "ax0[1].title.set_text(\"Intra-cellular AP\")\n",
    "ax0[1].title.set_fontsize(20)\n",
    "ax0[1].set_xlabel(\"Timesteps\", fontsize=20)\n",
    "ax0[1].set_ylabel(\"iAP\", fontsize=20)\n",
    "ax0[1].set_ylim([-0.1, 1.1])\n",
    "ax0[1].tick_params(axis='x', labelsize=16)\n",
    "ax0[1].tick_params(axis='y', labelsize=16)\n",
    "\n",
    "# Plot iAP\n",
    "# ax0[2].plot(np.cumsum(np.cumsum(pred)))\n",
    "# ax0[2].plot(intrasVal[ind], alpha=transparency)\n",
    "# ax0[2].legend(['Prediction', 'Ground Truth'])\n",
    "# ax0[2].title.set_text(\"Intra-cellular AP\")\n",
    "# ax0[2].set_xlabel(\"Timesteps\")\n",
    "# ax0[2].set_ylabel(\"iAP\")"
   ]
  },
  {
   "cell_type": "code",
   "execution_count": null,
   "id": "8aef4633",
   "metadata": {},
   "outputs": [],
   "source": [
    "diAP_physics_piecewise[48] = [np.cumsum(pred), intrasTest[ind]]"
   ]
  },
  {
   "cell_type": "code",
   "execution_count": null,
   "id": "39a00480",
   "metadata": {},
   "outputs": [],
   "source": [
    "diAP_physics_piecewise"
   ]
  },
  {
   "cell_type": "code",
   "execution_count": null,
   "id": "68ee103f",
   "metadata": {},
   "outputs": [],
   "source": [
    "with open('diAP_physics_piecewise.pkl', 'wb') as fl:\n",
    "    pickle.dump(diAP_physics_piecewise, fl)"
   ]
  },
  {
   "cell_type": "code",
   "execution_count": null,
   "id": "8eaaa86e",
   "metadata": {},
   "outputs": [],
   "source": []
  }
 ],
 "metadata": {
  "kernelspec": {
   "display_name": "Python 3 (ipykernel)",
   "language": "python",
   "name": "python3"
  },
  "language_info": {
   "codemirror_mode": {
    "name": "ipython",
    "version": 3
   },
   "file_extension": ".py",
   "mimetype": "text/x-python",
   "name": "python",
   "nbconvert_exporter": "python",
   "pygments_lexer": "ipython3",
   "version": "3.9.16"
  }
 },
 "nbformat": 4,
 "nbformat_minor": 5
}
